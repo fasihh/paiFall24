{
 "cells": [
  {
   "cell_type": "code",
   "execution_count": 218,
   "metadata": {},
   "outputs": [],
   "source": [
    "import numpy as np\n",
    "from IPython.display import display\n",
    "\n",
    "np.random.seed(20)"
   ]
  },
  {
   "cell_type": "markdown",
   "metadata": {
    "vscode": {
     "languageId": "plaintext"
    }
   },
   "source": [
    "#### Q1"
   ]
  },
  {
   "cell_type": "code",
   "execution_count": 219,
   "metadata": {},
   "outputs": [
    {
     "data": {
      "text/plain": [
       "array([ 4, 10,  5,  7,  8], dtype=int32)"
      ]
     },
     "metadata": {},
     "output_type": "display_data"
    },
    {
     "name": "stdout",
     "output_type": "stream",
     "text": [
      "Sum: 34\n",
      "Mean: 6.8\n",
      "Product: 11200\n"
     ]
    }
   ],
   "source": [
    "arr = np.random.randint(1, 11, 5)\n",
    "\n",
    "display(arr)\n",
    "\n",
    "print(f'Sum: {arr.sum()}')\n",
    "print(f'Mean: {arr.mean()}')\n",
    "print(f'Product: {arr.prod()}')"
   ]
  },
  {
   "cell_type": "markdown",
   "metadata": {},
   "source": [
    "#### Q2"
   ]
  },
  {
   "cell_type": "code",
   "execution_count": 220,
   "metadata": {},
   "outputs": [
    {
     "data": {
      "text/plain": [
       "array([[ -8, -10,  -2],\n",
       "       [  9,   6,  -4],\n",
       "       [ -4,   6,  -1]], dtype=int32)"
      ]
     },
     "metadata": {},
     "output_type": "display_data"
    },
    {
     "data": {
      "text/plain": [
       "array([[ -8,   9,  -4],\n",
       "       [-10,   6,   6],\n",
       "       [ -2,  -4,  -1]], dtype=int32)"
      ]
     },
     "metadata": {},
     "output_type": "display_data"
    }
   ],
   "source": [
    "mat = np.random.randint(-10, 10, (3, 3))\n",
    "\n",
    "display(mat)\n",
    "display(mat.T)"
   ]
  },
  {
   "cell_type": "markdown",
   "metadata": {},
   "source": [
    "#### Q3"
   ]
  },
  {
   "cell_type": "code",
   "execution_count": 221,
   "metadata": {},
   "outputs": [
    {
     "data": {
      "text/plain": [
       "array([[ -5,  -3,  -5,  -8,  -4],\n",
       "       [  3,   1,  -7,   0,   1],\n",
       "       [  3,   9,   4, -10,   0],\n",
       "       [  1,  -4,   1,   8,  -7]], dtype=int32)"
      ]
     },
     "execution_count": 221,
     "metadata": {},
     "output_type": "execute_result"
    }
   ],
   "source": [
    "np.random.randint(-10, 10, 20).reshape(4, 5)"
   ]
  },
  {
   "cell_type": "markdown",
   "metadata": {},
   "source": [
    "#### Q4"
   ]
  },
  {
   "cell_type": "code",
   "execution_count": 222,
   "metadata": {},
   "outputs": [
    {
     "data": {
      "text/plain": [
       "array([ 3,  7, 11, 15, 19])"
      ]
     },
     "metadata": {},
     "output_type": "display_data"
    },
    {
     "data": {
      "text/plain": [
       "array([-1, -1, -1, -1, -1])"
      ]
     },
     "metadata": {},
     "output_type": "display_data"
    },
    {
     "data": {
      "text/plain": [
       "array([ 2, 12, 30, 56, 90])"
      ]
     },
     "metadata": {},
     "output_type": "display_data"
    },
    {
     "data": {
      "text/plain": [
       "array([0.5       , 0.75      , 0.83333333, 0.875     , 0.9       ])"
      ]
     },
     "metadata": {},
     "output_type": "display_data"
    }
   ],
   "source": [
    "arr1, arr2 = np.array([1, 3, 5, 7, 9]), np.array([2, 4, 6, 8, 10])\n",
    "\n",
    "display(arr1 + arr2)\n",
    "display(arr1 - arr2)\n",
    "display(arr1 * arr2)\n",
    "display(arr1 / arr2)"
   ]
  },
  {
   "cell_type": "markdown",
   "metadata": {},
   "source": [
    "#### Q5"
   ]
  },
  {
   "cell_type": "code",
   "execution_count": 223,
   "metadata": {},
   "outputs": [
    {
     "data": {
      "text/plain": [
       "array([77, 17, 43, 16, 18, 79, 90, 59, 71, 75], dtype=int32)"
      ]
     },
     "metadata": {},
     "output_type": "display_data"
    },
    {
     "data": {
      "text/plain": [
       "array([8.77, 4.12, 6.56, 4.  , 4.24, 8.89, 9.49, 7.68, 8.43, 8.66],\n",
       "      dtype=float32)"
      ]
     },
     "execution_count": 223,
     "metadata": {},
     "output_type": "execute_result"
    }
   ],
   "source": [
    "from math import sqrt\n",
    "\n",
    "arr1 = np.random.randint(0, 100, 10)\n",
    "sqrt_vec = np.frompyfunc(lambda a: sqrt(a), 1, 1)\n",
    "\n",
    "arr = sqrt_vec(arr1).astype(np.float32).round(2)\n",
    "\n",
    "display(arr1)\n",
    "arr"
   ]
  },
  {
   "cell_type": "markdown",
   "metadata": {},
   "source": [
    "#### Q6"
   ]
  },
  {
   "cell_type": "code",
   "execution_count": 224,
   "metadata": {},
   "outputs": [
    {
     "data": {
      "text/plain": [
       "array([[6, 6],\n",
       "       [8, 2]], dtype=int32)"
      ]
     },
     "metadata": {},
     "output_type": "display_data"
    },
    {
     "name": "stdout",
     "output_type": "stream",
     "text": [
      "det(mat): -36.0\n"
     ]
    },
    {
     "data": {
      "text/plain": [
       "array([[-0.05555556,  0.16666667],\n",
       "       [ 0.22222222, -0.16666667]])"
      ]
     },
     "metadata": {},
     "output_type": "display_data"
    }
   ],
   "source": [
    "mat = np.random.randint(0, 10, (2, 2))\n",
    "\n",
    "display(mat)\n",
    "print(f'det(mat): {np.linalg.det(mat)}')\n",
    "display(np.linalg.inv(mat))"
   ]
  },
  {
   "cell_type": "markdown",
   "metadata": {},
   "source": [
    "#### Q7"
   ]
  },
  {
   "cell_type": "code",
   "execution_count": 225,
   "metadata": {},
   "outputs": [
    {
     "data": {
      "text/plain": [
       "array([ -9,   4,   0,  -7,   8,  -4,  -1,   4,  -6,   1,  -2,  -4,   5,\n",
       "         8,   4,   9,   0,   0,  -9,   8,   7,  -2,   8,   0,  -6,  -2,\n",
       "         6,   9,   6,   0,  -4,  -1, -10,   2,   4,   7,  -1,  -4,   0,\n",
       "        -3,  -1,  -1,   4,   5,   8,   2,   0,   8,   7,   2], dtype=int32)"
      ]
     },
     "metadata": {},
     "output_type": "display_data"
    },
    {
     "name": "stdout",
     "output_type": "stream",
     "text": [
      "Minimum index: 32\n",
      "Maximum index: 15\n"
     ]
    }
   ],
   "source": [
    "arr = np.random.randint(-10, 10, 50)\n",
    "\n",
    "display(arr)\n",
    "\n",
    "print(f'Minimum index: {arr.argmin()}')\n",
    "print(f'Maximum index: {arr.argmax()}')"
   ]
  },
  {
   "cell_type": "markdown",
   "metadata": {},
   "source": [
    "#### Q8"
   ]
  },
  {
   "cell_type": "code",
   "execution_count": 226,
   "metadata": {},
   "outputs": [
    {
     "data": {
      "text/plain": [
       "array([6., 1.])"
      ]
     },
     "execution_count": 226,
     "metadata": {},
     "output_type": "execute_result"
    }
   ],
   "source": [
    "A = np.array([[2, 4], [1, 1]])\n",
    "b = np.array([16, 7])\n",
    "\n",
    "np.linalg.solve(A, b)"
   ]
  },
  {
   "cell_type": "markdown",
   "metadata": {},
   "source": [
    "#### Q9"
   ]
  },
  {
   "cell_type": "code",
   "execution_count": 227,
   "metadata": {},
   "outputs": [
    {
     "data": {
      "text/plain": [
       "array([ -5,  -8,  -5,  -1,  -1,  -8,   5,  -9,   7,   6,  -2,   1,  -5,\n",
       "       -10,  -5,  -6,   1,   8,  -1,   4,  -5,  -7,   1,  -1,  -9],\n",
       "      dtype=int32)"
      ]
     },
     "metadata": {},
     "output_type": "display_data"
    },
    {
     "data": {
      "text/plain": [
       "np.float64(1.0)"
      ]
     },
     "execution_count": 227,
     "metadata": {},
     "output_type": "execute_result"
    }
   ],
   "source": [
    "arr = np.random.randint(-10, 10, 25)\n",
    "\n",
    "display(arr)\n",
    "np.percentile(arr, 75)"
   ]
  },
  {
   "cell_type": "markdown",
   "metadata": {},
   "source": [
    "#### Q10"
   ]
  },
  {
   "cell_type": "code",
   "execution_count": 228,
   "metadata": {},
   "outputs": [
    {
     "data": {
      "text/plain": [
       "array([3, 4, 7, 6, 5], dtype=int32)"
      ]
     },
     "metadata": {},
     "output_type": "display_data"
    },
    {
     "data": {
      "text/plain": [
       "array([-1.41421356, -0.70710678,  1.41421356,  0.70710678,  0.        ])"
      ]
     },
     "execution_count": 228,
     "metadata": {},
     "output_type": "execute_result"
    }
   ],
   "source": [
    "def normalize(arr: np.array):\n",
    "    return (arr - arr.mean()) / arr.std()\n",
    "\n",
    "arr = np.random.randint(1, 10, 5)\n",
    "display(arr)\n",
    "normalize(arr)"
   ]
  }
 ],
 "metadata": {
  "kernelspec": {
   "display_name": "paiFall24",
   "language": "python",
   "name": "python3"
  },
  "language_info": {
   "codemirror_mode": {
    "name": "ipython",
    "version": 3
   },
   "file_extension": ".py",
   "mimetype": "text/x-python",
   "name": "python",
   "nbconvert_exporter": "python",
   "pygments_lexer": "ipython3",
   "version": "3.12.3"
  }
 },
 "nbformat": 4,
 "nbformat_minor": 2
}
