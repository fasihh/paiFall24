{
 "cells": [
  {
   "cell_type": "markdown",
   "id": "54e4533f",
   "metadata": {},
   "source": [
    "### Q01"
   ]
  },
  {
   "cell_type": "code",
   "execution_count": null,
   "id": "21d66bf0",
   "metadata": {},
   "outputs": [],
   "source": [
    "from math import pi\n",
    "\n",
    "def area_trapezoid(a, b, h):\n",
    "    return 0.5*h*(a+b)\n",
    "def area_parallelogram(a, b):\n",
    "    return a*b\n",
    "def surface_area_cylinder(r, h):\n",
    "    return 2*pi*r*h + 2*pi*r**2\n",
    "def volume_cylinder(r, h):\n",
    "    return pi*r**2*h\n",
    "\n",
    "print(area_trapezoid(1, 3, 2))\n",
    "print(area_parallelogram(2, 3))\n",
    "print(surface_area_cylinder(2, 2))\n",
    "print(volume_cylinder(2, 2))"
   ]
  },
  {
   "cell_type": "markdown",
   "id": "de6ece90",
   "metadata": {},
   "source": [
    "### Q02"
   ]
  },
  {
   "cell_type": "code",
   "execution_count": null,
   "id": "f629f45c",
   "metadata": {},
   "outputs": [],
   "source": [
    "def check_vowel(string: str) -> bool:\n",
    "    return string[-1] in ['a', 'e', 'i', 'o', 'u']\n",
    "\n",
    "print(check_vowel(input()))"
   ]
  },
  {
   "cell_type": "markdown",
   "id": "835e3d67",
   "metadata": {},
   "source": [
    "### Q03"
   ]
  },
  {
   "cell_type": "code",
   "execution_count": null,
   "id": "8f1b743c",
   "metadata": {},
   "outputs": [],
   "source": [
    "def convert_url(url):\n",
    "    return url.replace(\"http://www.\", \"\")\n",
    "print(convert_url(input(\"enter url: \")))"
   ]
  },
  {
   "cell_type": "markdown",
   "id": "194e63c1",
   "metadata": {},
   "source": [
    "### Q04"
   ]
  },
  {
   "cell_type": "code",
   "execution_count": null,
   "id": "4d905f7f",
   "metadata": {},
   "outputs": [],
   "source": [
    "def employee(name, salary=10000):\n",
    "    print(salary*(1-0.02), name, sep=\"\\n\")\n",
    "employee(\"fasih\", 1000)\n",
    "employee(\"abser\")"
   ]
  },
  {
   "cell_type": "markdown",
   "id": "b2ed0358",
   "metadata": {},
   "source": [
    "### Q05"
   ]
  },
  {
   "cell_type": "code",
   "execution_count": null,
   "id": "629ac82b",
   "metadata": {},
   "outputs": [],
   "source": [
    "def fact(n):\n",
    "    if n <= 1:\n",
    "        return n\n",
    "    return n * fact(n-1)\n",
    "print(fact(4))"
   ]
  },
  {
   "cell_type": "markdown",
   "id": "72876af0",
   "metadata": {},
   "source": [
    "### Q06"
   ]
  },
  {
   "cell_type": "code",
   "execution_count": null,
   "id": "f621d26e",
   "metadata": {},
   "outputs": [],
   "source": [
    "def mult(nums):\n",
    "    ans = 1\n",
    "    for num in nums:\n",
    "        ans *= num\n",
    "    return ans\n",
    "print(mult([1, 2, 3, 4]))"
   ]
  },
  {
   "cell_type": "markdown",
   "id": "5ae8a178",
   "metadata": {},
   "source": [
    "### Q07"
   ]
  },
  {
   "cell_type": "code",
   "execution_count": null,
   "id": "fe10bea8",
   "metadata": {},
   "outputs": [],
   "source": [
    "def average(temps):\n",
    "    total = 0\n",
    "    for temp in temps:\n",
    "        total += temp\n",
    "    return total/len(temps)\n",
    "\n",
    "def highest(temps):\n",
    "    max_val = -float('inf')\n",
    "    for temp in temps:\n",
    "        if temp > max_val:\n",
    "            max_val = temp\n",
    "    return max_val\n",
    "\n",
    "def lowest(temps):\n",
    "    min_val = float('inf')\n",
    "    for temp in temps:\n",
    "        if temp < min_val:\n",
    "            min_val = temp\n",
    "    return min_val\n",
    "    \n",
    "temps = [32,31,34,31,35,34,25,30,25,25,32,27,25,32,29,25,29,27,30,31,32,28,32,35,32,27,25,29,26,34]\n",
    "temps.sort()\n",
    "\n",
    "remove_day = int(input(\"Enter day to remove: \"))-1\n",
    "if remove_day < 0 or remove_day > 30:\n",
    "    print(\"incorrect day\")\n",
    "else:\n",
    "    temps.pop(remove_day-1)\n",
    "\n",
    "print(\"count:\", len(temps))\n",
    "print(\"average:\", average(temps))\n",
    "print(\"highest:\", highest(temps))\n",
    "print(\"lowest:\", lowest(temps))"
   ]
  },
  {
   "cell_type": "markdown",
   "id": "4c45cf15",
   "metadata": {},
   "source": [
    "### Q08"
   ]
  },
  {
   "cell_type": "code",
   "execution_count": null,
   "id": "561c4e48",
   "metadata": {},
   "outputs": [],
   "source": [
    "conversions = [  \n",
    "    [1, 1.11, 309.54, 93.25, 160.80], # euro to\n",
    "    [0.90, 1, 278.62, 83.94, 144.74], # dollar to\n",
    "    [0.0032, 0.0036, 1, 0.30, 0.52], # pkr to\n",
    "    [0.011, 0.012, 3.32, 1, 1.72], # inr to\n",
    "    [0.0062, 0.0069, 1.93, 0.58, 1] # yen to\n",
    "]\n",
    "\n",
    "def convert(amount, to_currency, from_currency):\n",
    "    return amount * conversions[from_currency][to_currency]\n",
    "\n",
    "amount = float(input(\"enter amount to be converted: \"))\n",
    "print(\"currencies available:\", \"1. euro\", \"2. dollar\", \"3. pkr\", \"4. inr\", \"5. yen\", sep=\"\\n\")\n",
    "from_curr = int(input(\"enter currency: \"))-1\n",
    "to_curr = int(input(\"convert to: \"))-1\n",
    "\n",
    "if from_curr >= 5 or from_curr < 0 or to_curr >= 5 or to_curr < 0:\n",
    "    print(\"invalid conversion\")\n",
    "else:\n",
    "    print(convert(amount, to_curr, from_curr))"
   ]
  },
  {
   "cell_type": "markdown",
   "id": "a799b070",
   "metadata": {},
   "source": [
    "### Q09"
   ]
  },
  {
   "cell_type": "code",
   "execution_count": null,
   "id": "75211f8d",
   "metadata": {},
   "outputs": [],
   "source": [
    "file_name = \"test.txt\"\n",
    "\n",
    "with open(file_name, 'r') as f:\n",
    "    content = \" \".join(f.read().split('\\n'))\n",
    "    print(\"total chars:\", len(content))\n",
    "    print(\"total words:\", len(content.split(' ')))"
   ]
  },
  {
   "cell_type": "markdown",
   "id": "2da09a52",
   "metadata": {},
   "source": [
    "### Q10"
   ]
  },
  {
   "cell_type": "code",
   "execution_count": null,
   "id": "ec5fcf1d",
   "metadata": {},
   "outputs": [],
   "source": [
    "def build_message(**info):\n",
    "    return \"\\n\".join([f\"{detail}: {info[detail]}\" for detail in info])\n",
    "\n",
    "print(build_message(name=\"fasih\", age=19))"
   ]
  },
  {
   "cell_type": "markdown",
   "id": "9463010e",
   "metadata": {},
   "source": [
    "### Q11"
   ]
  },
  {
   "cell_type": "code",
   "execution_count": null,
   "id": "aa1f8548",
   "metadata": {},
   "outputs": [],
   "source": [
    "students = {\n",
    "    \"fasih\": [69, 71, 82, 96, 86],\n",
    "    \"owais\": [98, 84, 85, 88, 82],\n",
    "    \"ali\":   [97, 91, 65, 72, 88],\n",
    "    \"abser\": [89, 94, 73, 63, 83]\n",
    "}\n",
    "\n",
    "def add_student(student, grades=[]):\n",
    "    students[student] = grades\n",
    "\n",
    "def add_grade(student, grade):\n",
    "    if student in students:\n",
    "        students[student].append(grade)\n",
    "        return\n",
    "    print(\"student does not exist\")\n",
    "    \n",
    "def get_student_average(student):\n",
    "    grades = students[student]\n",
    "    # using sum instead of adding manually\n",
    "    return sum(grades)/len(grades)\n",
    "\n",
    "def remove_student(student):\n",
    "    if student in students:\n",
    "        students.pop(student)\n",
    "        return\n",
    "    print(\"student does not exist\")\n",
    "    \n",
    "new_student = input(\"enter new student name: \")\n",
    "add_student(new_student)\n",
    "\n",
    "while True:\n",
    "    if input(\"would you like to enter a new grade for the student? (y/n): \").lower() == 'n':\n",
    "        break\n",
    "    add_grade(new_student, float(input(\"enter grade (out of 100): \")))\n",
    "\n",
    "for student in students:\n",
    "    print(student, students[student], sep='\\n')\n",
    "\n",
    "average_of = input(\"find average of student: \")\n",
    "print(\"average\", get_student_average(average_of))\n",
    "\n",
    "remove = input(\"remove student: \")\n",
    "remove_student(remove)\n",
    "\n",
    "for student in students:\n",
    "    print(student, students[student], sep='\\n')"
   ]
  },
  {
   "cell_type": "markdown",
   "id": "12d7822f",
   "metadata": {},
   "source": [
    "### Q12"
   ]
  },
  {
   "cell_type": "code",
   "execution_count": null,
   "id": "77ff1afc",
   "metadata": {},
   "outputs": [],
   "source": [
    "# enter comma separated values like so: 1,2,3\n",
    "\n",
    "list1 = input(\"list1: \").split(',')\n",
    "list2 = input(\"list2: \").split(',')\n",
    "\n",
    "print(dict(zip(list1, list2)))"
   ]
  }
 ],
 "metadata": {
  "kernelspec": {
   "display_name": "Python 3 (ipykernel)",
   "language": "python",
   "name": "python3"
  },
  "language_info": {
   "codemirror_mode": {
    "name": "ipython",
    "version": 3
   },
   "file_extension": ".py",
   "mimetype": "text/x-python",
   "name": "python",
   "nbconvert_exporter": "python",
   "pygments_lexer": "ipython3",
   "version": "3.12.3"
  }
 },
 "nbformat": 4,
 "nbformat_minor": 5
}
