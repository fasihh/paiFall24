{
 "cells": [
  {
   "cell_type": "markdown",
   "id": "b46315da",
   "metadata": {},
   "source": [
    "### q01"
   ]
  },
  {
   "cell_type": "code",
   "execution_count": null,
   "id": "8c630394",
   "metadata": {},
   "outputs": [],
   "source": [
    "file_name = r'task_1.txt'\n",
    "\n",
    "try:\n",
    "    with open(file_name, 'r') as f:\n",
    "        content = f.read()\n",
    "        print('characters:', len(content))\n",
    "        print('words:', len(content.split(' ')))\n",
    "except FileNotFoundError:\n",
    "    print('file does not exist')\n",
    "except IOError:\n",
    "    print('could not read/write file')\n",
    "except:\n",
    "    print('unexpected error')"
   ]
  },
  {
   "cell_type": "markdown",
   "id": "a10adaf3",
   "metadata": {},
   "source": [
    "### q02"
   ]
  },
  {
   "cell_type": "code",
   "execution_count": null,
   "id": "c3ed8140",
   "metadata": {},
   "outputs": [],
   "source": [
    "file_name = r'task_2.txt'\n",
    "\n",
    "selected = 'X'\n",
    "replace = 'Fasih'\n",
    "\n",
    "try:\n",
    "    with open(file_name, 'r+') as f:\n",
    "        content = f.read().replace(selected, replace)\n",
    "        print(content)\n",
    "        f.seek(0)\n",
    "        f.write(content)\n",
    "except FileNotFoundError:\n",
    "    print('file does not exist')\n",
    "except IOError:\n",
    "    print('could not read/write file')\n",
    "except:\n",
    "    print('unexpected error')"
   ]
  },
  {
   "cell_type": "markdown",
   "id": "6b6317d9",
   "metadata": {},
   "source": [
    "### q03"
   ]
  },
  {
   "cell_type": "code",
   "execution_count": null,
   "id": "7b3d9d78",
   "metadata": {},
   "outputs": [],
   "source": [
    "file_name = r'task_3.txt'\n",
    "\n",
    "list1 = input('list1: ').split(' ')\n",
    "list2 = input('list2: ').split(' ')\n",
    "\n",
    "def create_dict():\n",
    "    try:\n",
    "        with open(file_name, 'w') as f:\n",
    "            f.write(str(dict(zip(list1, list2))))\n",
    "    except FileNotFoundError:\n",
    "        print('file does not exist')\n",
    "    except IOError:\n",
    "        print('could not read/write file')\n",
    "    except:\n",
    "        print('unexpected error')\n",
    "        \n",
    "if len(list1) == len(list2):\n",
    "    create_dict()\n",
    "    print('dictionary created')\n",
    "else:\n",
    "    print('list1 and list2 have different lengths')"
   ]
  },
  {
   "cell_type": "markdown",
   "id": "c2eba1f0",
   "metadata": {},
   "source": [
    "### q04"
   ]
  },
  {
   "cell_type": "code",
   "execution_count": null,
   "id": "b0bfcc1b",
   "metadata": {},
   "outputs": [],
   "source": [
    "file_name = r'task_4.txt'\n",
    "\n",
    "try:\n",
    "    with open(file_name, 'w') as f:\n",
    "        emp_data = [\n",
    "            input('Name: '),\n",
    "            input('CNIC: '),\n",
    "            input('Age: '),\n",
    "            input('Salary: ')\n",
    "        ]\n",
    "        f.write(' '.join(emp_data))\n",
    "            \n",
    "    with open(file_name, 'a') as f:\n",
    "        contact = ' ' + input('Phone #: ')\n",
    "        f.write(contact)\n",
    "    print()\n",
    "        \n",
    "    with open(file_name, 'r') as f:\n",
    "        content = f.read().split(' ')\n",
    "        for i, prop in enumerate(['Name', 'CNIC', 'Age', 'Salary', 'Phone #']):\n",
    "            print(f'{prop}: {content[i]}')\n",
    "except FileNotFoundError:\n",
    "    print('file does not exist')\n",
    "except IOError:\n",
    "    print('could not read/write file')\n",
    "except:\n",
    "    print('unexpected error')"
   ]
  },
  {
   "cell_type": "markdown",
   "id": "ab90d3d5",
   "metadata": {},
   "source": [
    "### q05"
   ]
  },
  {
   "cell_type": "code",
   "execution_count": null,
   "id": "85df5cd3",
   "metadata": {},
   "outputs": [],
   "source": [
    "import json\n",
    "\n",
    "file_name = r'task_5.txt'\n",
    "\n",
    "user_data = {'Ali': 23,'Saad':24,'Salman':15,'Shams':25,'Sadiq':46,'Hammad':23,'Test':46}\n",
    "\n",
    "try:\n",
    "    with open(file_name, 'w') as f:\n",
    "        json.dump(user_data, f)\n",
    "    \n",
    "    with open(file_name, 'r') as f:\n",
    "        file_data = json.load(f)\n",
    "        max_age = max(file_data.values())\n",
    "        \n",
    "        for person in file_data:\n",
    "            if file_data[person] == max_age:\n",
    "                print(person)\n",
    "        \n",
    "except FileNotFoundError:\n",
    "    print('file does not exist')\n",
    "except IOError:\n",
    "    print('could not read/write file')\n",
    "except:\n",
    "    print('unexpected error')"
   ]
  },
  {
   "cell_type": "markdown",
   "id": "37f384e4",
   "metadata": {},
   "source": [
    "### q06"
   ]
  },
  {
   "cell_type": "code",
   "execution_count": null,
   "id": "23b61424",
   "metadata": {},
   "outputs": [],
   "source": [
    "file_name = r'questions.txt'\n",
    "\n",
    "def ask_sentence() -> None:\n",
    "    with open(file_name, 'w') as f:\n",
    "        sentence = input('>> ')\n",
    "        if sentence[-1] == '?':\n",
    "            f.write(sentence)\n",
    "            print('write successful')\n",
    "\n",
    "try:\n",
    "    ask_sentence()\n",
    "except FileNotFoundError:\n",
    "    print('file does not exist')\n",
    "except IOError:\n",
    "    print('could not read/write file')\n",
    "except:\n",
    "    print('unexpected error')"
   ]
  },
  {
   "cell_type": "markdown",
   "id": "9fbc4048",
   "metadata": {},
   "source": [
    "### q07"
   ]
  },
  {
   "cell_type": "code",
   "execution_count": null,
   "id": "13217590",
   "metadata": {},
   "outputs": [],
   "source": [
    "file_name = r'replacement_needed.txt'\n",
    "\n",
    "try:\n",
    "    with open(file_name, 'r+') as f:\n",
    "        content = f.read()\n",
    "        print('file:', content)\n",
    "\n",
    "        while True:\n",
    "            word = input('enter word needing replacement: ')\n",
    "            if word in content:\n",
    "                break\n",
    "        \n",
    "        content = content.replace(word, word.replace(input('before: '), input('after: ')))\n",
    "        f.seek(0)\n",
    "        f.write(content)\n",
    "except FileNotFoundError:\n",
    "    print('file does not exist')\n",
    "except IOError:\n",
    "    print('could not read/write file')\n",
    "except:\n",
    "    print('unexpected error')"
   ]
  },
  {
   "cell_type": "markdown",
   "id": "abc553ca",
   "metadata": {},
   "source": [
    "### q08"
   ]
  },
  {
   "cell_type": "code",
   "execution_count": null,
   "id": "206ba96d",
   "metadata": {},
   "outputs": [],
   "source": [
    "try:\n",
    "    num1, num2 = int(input('num1: ')), int(input('num2: '))\n",
    "    print(num1/num2)\n",
    "except ValueError:\n",
    "    print('incorrect value')\n",
    "except ZeroDivisionError:\n",
    "    print('division by zero')\n",
    "except:\n",
    "    print('unexpected error')"
   ]
  }
 ],
 "metadata": {},
 "nbformat": 4,
 "nbformat_minor": 5
}
