{
 "cells": [
  {
   "cell_type": "code",
   "execution_count": 15,
   "metadata": {},
   "outputs": [
    {
     "data": {
      "text/plain": [
       "array([22, 24, 26, 28, 30, 32, 34, 36, 38, 40, 42, 44, 46, 48])"
      ]
     },
     "execution_count": 15,
     "metadata": {},
     "output_type": "execute_result"
    }
   ],
   "source": [
    "import numpy as np\n",
    "from IPython.display import display\n",
    "\n",
    "\n",
    "np.arange(20, 50, 2)[1:]"
   ]
  },
  {
   "cell_type": "code",
   "execution_count": 35,
   "metadata": {},
   "outputs": [
    {
     "name": "stdout",
     "output_type": "stream",
     "text": [
      "1\n",
      "3\n",
      "5\n",
      "7\n",
      "9\n",
      "11\n",
      "13\n",
      "15\n",
      "17\n"
     ]
    }
   ],
   "source": [
    "arr = np.arange(1, 19, 2).reshape((3, 3))\n",
    "\n",
    "for row in np.nditer(arr):\n",
    "    print(row)"
   ]
  },
  {
   "cell_type": "code",
   "execution_count": 49,
   "metadata": {},
   "outputs": [
    {
     "data": {
      "text/plain": [
       "array([[ 8.,  0.,  0.],\n",
       "       [ 0., 40.,  0.],\n",
       "       [ 0.,  0., 72.]])"
      ]
     },
     "metadata": {},
     "output_type": "display_data"
    },
    {
     "data": {
      "text/plain": [
       "array([[ 8., 16., 24.],\n",
       "       [32., 40., 48.],\n",
       "       [56., 64., 72.]])"
      ]
     },
     "metadata": {},
     "output_type": "display_data"
    }
   ],
   "source": [
    "display(np.multiply(4 * np.arange(2, 20, 2).reshape((3, 3)), np.eye(3)))\n",
    "display(np.matmul(4 * np.arange(2, 20, 2).reshape((3, 3)), np.eye(3)))"
   ]
  },
  {
   "cell_type": "code",
   "execution_count": 53,
   "metadata": {},
   "outputs": [
    {
     "data": {
      "text/plain": [
       "array([('Abser', 5.8,  9), ('Fasih', 5.5, 10), ('Ali', 5.8, 10),\n",
       "       ('Owais', 5.5, 11)],\n",
       "      dtype=[('name', '<U10'), ('height', '<f4'), ('class', '<i8')])"
      ]
     },
     "execution_count": 53,
     "metadata": {},
     "output_type": "execute_result"
    }
   ],
   "source": [
    "students = np.array([\n",
    "    ('Fasih', 5.5, 10),\n",
    "    ('Owais', 5.5, 11),\n",
    "    ('Abser', 5.8, 9),\n",
    "    ('Ali', 5.8, 10)\n",
    "], dtype=[('name', '<U10'), ('height', '<f4'), ('class', '<i8')])\n",
    "\n",
    "\n",
    "np.sort(students, order=['class', 'height'])"
   ]
  },
  {
   "cell_type": "code",
   "execution_count": 68,
   "metadata": {},
   "outputs": [
    {
     "data": {
      "text/plain": [
       "array([[ 6.,  8., 14., 12.],\n",
       "       [18., 21., 22., 25.],\n",
       "       [27., 28., 26., 25.],\n",
       "       [30., 36., 38., 36.]])"
      ]
     },
     "metadata": {},
     "output_type": "display_data"
    },
    {
     "data": {
      "text/plain": [
       "array([[ 6.,  3.,  5.,  7.],\n",
       "       [ 9., 21., 13., 15.],\n",
       "       [17., 19., 26., 23.],\n",
       "       [25., 27., 29., 36.]])"
      ]
     },
     "metadata": {},
     "output_type": "display_data"
    }
   ],
   "source": [
    "rarr = np.random.choice([2, 5, 9, 10], (4, 4))\n",
    "odd = np.arange(1, 33, 2).reshape((4, 4))\n",
    "display(np.matmul(rarr, np.eye(4)) + odd)\n",
    "display(np.multiply(rarr, np.eye(4)) + odd)"
   ]
  },
  {
   "cell_type": "code",
   "execution_count": 71,
   "metadata": {},
   "outputs": [
    {
     "data": {
      "text/plain": [
       "array([[255, 379],\n",
       "       [161, 253],\n",
       "       [348, 529],\n",
       "       [112, 179],\n",
       "       [424, 611]], dtype=int32)"
      ]
     },
     "execution_count": 71,
     "metadata": {},
     "output_type": "execute_result"
    }
   ],
   "source": [
    "mat1 = np.random.randint(0, 20, (5, 3))\n",
    "mat2 = np.random.randint(0, 20, (3, 2))\n",
    "\n",
    "np.matmul(mat1, mat2)\n"
   ]
  },
  {
   "cell_type": "code",
   "execution_count": 78,
   "metadata": {},
   "outputs": [
    {
     "name": "stdout",
     "output_type": "stream",
     "text": [
      "average = 51.776\n",
      " variance = 880.675824\n",
      " standard_deviation = 29.676182773395908\n"
     ]
    }
   ],
   "source": [
    "nums = np.random.randint(0, 100, 1000)\n",
    "\n",
    "with open('info.txt', 'w+') as f:\n",
    "    vals = [\n",
    "        f'average = {nums.mean()}\\n',\n",
    "        f'variance = {nums.var()}\\n',\n",
    "        f'standard_deviation = {nums.std()}',\n",
    "    ]\n",
    "\n",
    "    f.writelines(vals)\n",
    "    print(''.join(vals))"
   ]
  }
 ],
 "metadata": {
  "kernelspec": {
   "display_name": "fasih",
   "language": "python",
   "name": "python3"
  },
  "language_info": {
   "codemirror_mode": {
    "name": "ipython",
    "version": 3
   },
   "file_extension": ".py",
   "mimetype": "text/x-python",
   "name": "python",
   "nbconvert_exporter": "python",
   "pygments_lexer": "ipython3",
   "version": "3.12.2"
  }
 },
 "nbformat": 4,
 "nbformat_minor": 2
}
