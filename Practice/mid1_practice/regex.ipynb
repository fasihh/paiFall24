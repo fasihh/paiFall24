{
 "cells": [
  {
   "cell_type": "code",
   "execution_count": 73,
   "metadata": {},
   "outputs": [
    {
     "name": "stdout",
     "output_type": "stream",
     "text": [
      "('fhk', '.tcs', 'tcs', 'gmail', '.com', 'com')\n",
      "('k230018', None, None, 'nu', '.pk', 'pk')\n",
      "('random', '.thing122', 'thing122', 'email', '.com', 'com')\n"
     ]
    }
   ],
   "source": [
    "import re\n",
    "\n",
    "emails = [\n",
    "    'fhk.tcs@gmail.com',\n",
    "    'k230018@nu.edu.pk',\n",
    "    'random.email.thing122@email.net.ca.wow.com',\n",
    "    'yes@yes'\n",
    "]\n",
    "\n",
    "def is_email(s: str):\n",
    "    return re.finditer(r'(\\w+)(\\.(\\w+))*@(\\w+)(\\.(\\w+))+', s)\n",
    "\n",
    "for match in is_email(' '.join(emails)):\n",
    "    print(match.groups())"
   ]
  },
  {
   "cell_type": "code",
   "execution_count": 74,
   "metadata": {},
   "outputs": [
    {
     "data": {
      "text/plain": [
       "['Hello', ' How are you']"
      ]
     },
     "execution_count": 74,
     "metadata": {},
     "output_type": "execute_result"
    }
   ],
   "source": [
    "test = 'Hello! How are you?'\n",
    "\n",
    "re.findall(r'[^?!.]+', test)"
   ]
  }
 ],
 "metadata": {
  "kernelspec": {
   "display_name": "paiFall24",
   "language": "python",
   "name": "python3"
  },
  "language_info": {
   "codemirror_mode": {
    "name": "ipython",
    "version": 3
   },
   "file_extension": ".py",
   "mimetype": "text/x-python",
   "name": "python",
   "nbconvert_exporter": "python",
   "pygments_lexer": "ipython3",
   "version": "3.12.3"
  }
 },
 "nbformat": 4,
 "nbformat_minor": 2
}
