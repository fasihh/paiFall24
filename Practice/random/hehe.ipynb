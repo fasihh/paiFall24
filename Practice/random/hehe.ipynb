{
 "cells": [
  {
   "cell_type": "code",
   "execution_count": 1,
   "metadata": {},
   "outputs": [
    {
     "data": {
      "text/plain": [
       "(array([1, 1, 0, 1, 1, 1, 1, 1, 0, 0, 0, 1, 1, 0, 1, 1, 1, 0, 0, 1, 0, 1,\n",
       "        1, 1, 1, 0, 1, 0, 1, 1, 1, 0, 1, 1, 1, 0, 1, 1, 1, 0, 1, 1, 0, 1,\n",
       "        1, 1, 1, 0, 0, 0]),\n",
       " 50,\n",
       " 33)"
      ]
     },
     "execution_count": 1,
     "metadata": {},
     "output_type": "execute_result"
    }
   ],
   "source": [
    "import numpy as np\n",
    "\n",
    "threshold = 10\n",
    "\n",
    "def fraction(a: int, b: int) -> tuple[int, int]:\n",
    "    gcd = np.gcd(a, b)\n",
    "    if gcd == 1:\n",
    "        return (a, b)\n",
    "    elif gcd == b:\n",
    "        return (int(a/b), 1)\n",
    "    return (int(a / gcd), int(b / gcd))\n",
    "\n",
    "def distribute_wins(items: int, rounds: int) -> np.ndarray:\n",
    "    if np.gcd(items, rounds) != 1:\n",
    "        res = np.array([])\n",
    "        num, den = fraction(items, rounds)\n",
    "\n",
    "        for __ in range(int(rounds / den)):\n",
    "            part = np.append(np.ones(num), np.zeros(abs(num - den)))\n",
    "            np.random.shuffle(part)\n",
    "            res = np.append(res, part)\n",
    "\n",
    "        return res.astype(np.int32)\n",
    "    \n",
    "    rem = 0\n",
    "    while np.gcd(items, rounds) == 1:\n",
    "        items -= 1\n",
    "        rem += 1\n",
    "    \n",
    "    res = distribute_wins(items, rounds)\n",
    "    zeros, = np.where(res == 0)\n",
    "\n",
    "    while rem:\n",
    "        idx = np.random.choice(len(zeros) - 1)\n",
    "        res[zeros[idx]] = 1\n",
    "        np.delete(zeros, idx)\n",
    "        rem -= 1\n",
    "\n",
    "    return res\n",
    "\n",
    "dist = distribute_wins(33, 50)\n",
    "dist, len(dist), np.sum(dist, dtype=np.int32)"
   ]
  },
  {
   "cell_type": "code",
   "execution_count": 2,
   "metadata": {},
   "outputs": [
    {
     "name": "stdout",
     "output_type": "stream",
     "text": [
      "[1, 1, 1, 1, 1, 1, 0, 0, 1, 1, 0, 1, 1, 0, 0, 1, 1, 0, 1, 1, 0, 1, 0, 1, 0, 1, 1, 0, 1, 1]\n",
      "Wins: 20\n"
     ]
    }
   ],
   "source": [
    "import random\n",
    "\n",
    "def distribute_items(a, b):\n",
    "    remaining_items = a\n",
    "    remaining_rounds = b\n",
    "    results = []\n",
    "    \n",
    "    max_cluster = 2\n",
    "    \n",
    "    for __ in range(b):\n",
    "        probability = remaining_items / remaining_rounds\n",
    "        \n",
    "        if len(results) >= max_cluster:\n",
    "            last_few = results[-max_cluster:]\n",
    "            if all(x == 1 for x in last_few):\n",
    "                probability *= 0.5\n",
    "            elif all(x == 0 for x in last_few):\n",
    "                probability = min(probability * 1.5, 1.0)\n",
    "        \n",
    "        if random.random() < probability:\n",
    "            results.append(1)\n",
    "            remaining_items -= 1\n",
    "        else:\n",
    "            results.append(0)\n",
    "        \n",
    "        remaining_rounds -= 1\n",
    "        \n",
    "        if remaining_items == 0:\n",
    "            results.extend([0] * remaining_rounds)\n",
    "            break\n",
    "    \n",
    "    return results\n",
    "\n",
    "items = {\n",
    "    1: 5,\n",
    "    2: 5,\n",
    "    3: 10\n",
    "}\n",
    "\n",
    "a = sum(items[key] for key in items)\n",
    "b = 30\n",
    "distribution = distribute_items(a, b)\n",
    "wins = distribution.count(1)\n",
    "\n",
    "rem = abs(wins - a)\n",
    "while rem:\n",
    "    i = 0\n",
    "    while distribution[i] == 1:\n",
    "        i += 1\n",
    "    distribution[i] = 1\n",
    "    rem -= 1\n",
    "\n",
    "print(distribution)\n",
    "print(\"Wins:\", distribution.count(1))"
   ]
  },
  {
   "cell_type": "code",
   "execution_count": 3,
   "metadata": {},
   "outputs": [
    {
     "data": {
      "text/plain": [
       "(True, True, True, True)"
      ]
     },
     "execution_count": 3,
     "metadata": {},
     "output_type": "execute_result"
    }
   ],
   "source": [
    "modcong = lambda a, b, m: (a - b) % m == 0\n",
    "\n",
    "modcong(1, 11, 5), modcong(7, 2, 5), modcong(1 * 2, 11 * 7, 5), modcong(1 * 7, 11 * 2, 5)"
   ]
  },
  {
   "cell_type": "code",
   "execution_count": 4,
   "metadata": {},
   "outputs": [
    {
     "data": {
      "text/plain": [
       "True"
      ]
     },
     "execution_count": 4,
     "metadata": {},
     "output_type": "execute_result"
    }
   ],
   "source": [
    "from itertools import combinations\n",
    "\n",
    "def relative_primes(*args):\n",
    "    for a, b in combinations(args, 2):\n",
    "        if np.gcd(a, b) != 1:\n",
    "            return False\n",
    "    return True\n",
    "\n",
    "relative_primes(12, 17, 31, 37)"
   ]
  },
  {
   "cell_type": "code",
   "execution_count": 5,
   "metadata": {},
   "outputs": [
    {
     "data": {
      "text/plain": [
       "(1, 12816)"
      ]
     },
     "execution_count": 5,
     "metadata": {},
     "output_type": "execute_result"
    }
   ],
   "source": [
    "nums = (144, 89)\n",
    "np.gcd.reduce(nums), np.lcm.reduce(nums)"
   ]
  },
  {
   "cell_type": "code",
   "execution_count": 6,
   "metadata": {},
   "outputs": [
    {
     "data": {
      "text/plain": [
       "True"
      ]
     },
     "execution_count": 6,
     "metadata": {},
     "output_type": "execute_result"
    }
   ],
   "source": [
    "[i for i in range(-100, 101) if (i - 24) % 25 == 0] == [i for i in range(-100, 101) if (i + 1) % 25 == 0]"
   ]
  },
  {
   "cell_type": "code",
   "execution_count": 7,
   "metadata": {},
   "outputs": [
    {
     "name": "stdout",
     "output_type": "stream",
     "text": [
      "123333455667788996251331285501213313667718769123845790045146053214873932565811652722688\n",
      "12344444467898888196814968867235108211781128939027316439673344238044231654456697028608\n",
      "1234555545679111126251763288732417803440402386344680016861622572625811654387399917568\n"
     ]
    }
   ],
   "source": [
    "n = 10\n",
    "num = int(\"\".join(['0', *[str(i) for i in range(1, 10)] * n]))\n",
    "\n",
    "for c in [1001, 10001, 100001]:\n",
    "    print(int((num - num % c) / c))"
   ]
  },
  {
   "cell_type": "code",
   "execution_count": 8,
   "metadata": {},
   "outputs": [
    {
     "data": {
      "text/plain": [
       "False"
      ]
     },
     "execution_count": 8,
     "metadata": {},
     "output_type": "execute_result"
    }
   ],
   "source": [
    "modcong(80, 5, 17)"
   ]
  },
  {
   "cell_type": "code",
   "execution_count": 9,
   "metadata": {},
   "outputs": [
    {
     "name": "stdout",
     "output_type": "stream",
     "text": [
      "14\n"
     ]
    },
    {
     "data": {
      "text/html": [
       "<div>\n",
       "<style scoped>\n",
       "    .dataframe tbody tr th:only-of-type {\n",
       "        vertical-align: middle;\n",
       "    }\n",
       "\n",
       "    .dataframe tbody tr th {\n",
       "        vertical-align: top;\n",
       "    }\n",
       "\n",
       "    .dataframe thead th {\n",
       "        text-align: right;\n",
       "    }\n",
       "</style>\n",
       "<table border=\"1\" class=\"dataframe\">\n",
       "  <thead>\n",
       "    <tr style=\"text-align: right;\">\n",
       "      <th></th>\n",
       "      <th>letter</th>\n",
       "      <th>code</th>\n",
       "      <th>ceaser</th>\n",
       "      <th>enc_letter</th>\n",
       "    </tr>\n",
       "  </thead>\n",
       "  <tbody>\n",
       "    <tr>\n",
       "      <th>0</th>\n",
       "      <td>S</td>\n",
       "      <td>18</td>\n",
       "      <td>21</td>\n",
       "      <td>V</td>\n",
       "    </tr>\n",
       "    <tr>\n",
       "      <th>1</th>\n",
       "      <td>I</td>\n",
       "      <td>8</td>\n",
       "      <td>11</td>\n",
       "      <td>L</td>\n",
       "    </tr>\n",
       "    <tr>\n",
       "      <th>2</th>\n",
       "      <td>X</td>\n",
       "      <td>23</td>\n",
       "      <td>0</td>\n",
       "      <td>A</td>\n",
       "    </tr>\n",
       "    <tr>\n",
       "      <th>3</th>\n",
       "      <td>H</td>\n",
       "      <td>7</td>\n",
       "      <td>10</td>\n",
       "      <td>K</td>\n",
       "    </tr>\n",
       "    <tr>\n",
       "      <th>4</th>\n",
       "      <td>U</td>\n",
       "      <td>20</td>\n",
       "      <td>23</td>\n",
       "      <td>X</td>\n",
       "    </tr>\n",
       "    <tr>\n",
       "      <th>5</th>\n",
       "      <td>N</td>\n",
       "      <td>13</td>\n",
       "      <td>16</td>\n",
       "      <td>Q</td>\n",
       "    </tr>\n",
       "    <tr>\n",
       "      <th>6</th>\n",
       "      <td>D</td>\n",
       "      <td>3</td>\n",
       "      <td>6</td>\n",
       "      <td>G</td>\n",
       "    </tr>\n",
       "    <tr>\n",
       "      <th>7</th>\n",
       "      <td>R</td>\n",
       "      <td>17</td>\n",
       "      <td>20</td>\n",
       "      <td>U</td>\n",
       "    </tr>\n",
       "    <tr>\n",
       "      <th>8</th>\n",
       "      <td>E</td>\n",
       "      <td>4</td>\n",
       "      <td>7</td>\n",
       "      <td>H</td>\n",
       "    </tr>\n",
       "    <tr>\n",
       "      <th>10</th>\n",
       "      <td>A</td>\n",
       "      <td>0</td>\n",
       "      <td>3</td>\n",
       "      <td>D</td>\n",
       "    </tr>\n",
       "    <tr>\n",
       "      <th>13</th>\n",
       "      <td>T</td>\n",
       "      <td>19</td>\n",
       "      <td>22</td>\n",
       "      <td>W</td>\n",
       "    </tr>\n",
       "    <tr>\n",
       "      <th>18</th>\n",
       "      <td>Y</td>\n",
       "      <td>24</td>\n",
       "      <td>1</td>\n",
       "      <td>B</td>\n",
       "    </tr>\n",
       "    <tr>\n",
       "      <th>20</th>\n",
       "      <td>W</td>\n",
       "      <td>22</td>\n",
       "      <td>25</td>\n",
       "      <td>Z</td>\n",
       "    </tr>\n",
       "    <tr>\n",
       "      <th>21</th>\n",
       "      <td>O</td>\n",
       "      <td>14</td>\n",
       "      <td>17</td>\n",
       "      <td>R</td>\n",
       "    </tr>\n",
       "  </tbody>\n",
       "</table>\n",
       "</div>"
      ],
      "text/plain": [
       "   letter  code  ceaser enc_letter\n",
       "0       S    18      21          V\n",
       "1       I     8      11          L\n",
       "2       X    23       0          A\n",
       "3       H     7      10          K\n",
       "4       U    20      23          X\n",
       "5       N    13      16          Q\n",
       "6       D     3       6          G\n",
       "7       R    17      20          U\n",
       "8       E     4       7          H\n",
       "10      A     0       3          D\n",
       "13      T    19      22          W\n",
       "18      Y    24       1          B\n",
       "20      W    22      25          Z\n",
       "21      O    14      17          R"
      ]
     },
     "metadata": {},
     "output_type": "display_data"
    },
    {
     "data": {
      "text/html": [
       "<div>\n",
       "<style scoped>\n",
       "    .dataframe tbody tr th:only-of-type {\n",
       "        vertical-align: middle;\n",
       "    }\n",
       "\n",
       "    .dataframe tbody tr th {\n",
       "        vertical-align: top;\n",
       "    }\n",
       "\n",
       "    .dataframe thead th {\n",
       "        text-align: right;\n",
       "    }\n",
       "</style>\n",
       "<table border=\"1\" class=\"dataframe\">\n",
       "  <thead>\n",
       "    <tr style=\"text-align: right;\">\n",
       "      <th></th>\n",
       "      <th>letter</th>\n",
       "      <th>code</th>\n",
       "      <th>ceaser</th>\n",
       "      <th>enc_letter</th>\n",
       "    </tr>\n",
       "  </thead>\n",
       "  <tbody>\n",
       "    <tr>\n",
       "      <th>0</th>\n",
       "      <td>S</td>\n",
       "      <td>18</td>\n",
       "      <td>21</td>\n",
       "      <td>V</td>\n",
       "    </tr>\n",
       "    <tr>\n",
       "      <th>1</th>\n",
       "      <td>I</td>\n",
       "      <td>8</td>\n",
       "      <td>11</td>\n",
       "      <td>L</td>\n",
       "    </tr>\n",
       "    <tr>\n",
       "      <th>2</th>\n",
       "      <td>X</td>\n",
       "      <td>23</td>\n",
       "      <td>0</td>\n",
       "      <td>A</td>\n",
       "    </tr>\n",
       "    <tr>\n",
       "      <th>3</th>\n",
       "      <td>H</td>\n",
       "      <td>7</td>\n",
       "      <td>10</td>\n",
       "      <td>K</td>\n",
       "    </tr>\n",
       "    <tr>\n",
       "      <th>4</th>\n",
       "      <td>U</td>\n",
       "      <td>20</td>\n",
       "      <td>23</td>\n",
       "      <td>X</td>\n",
       "    </tr>\n",
       "    <tr>\n",
       "      <th>5</th>\n",
       "      <td>N</td>\n",
       "      <td>13</td>\n",
       "      <td>16</td>\n",
       "      <td>Q</td>\n",
       "    </tr>\n",
       "    <tr>\n",
       "      <th>6</th>\n",
       "      <td>D</td>\n",
       "      <td>3</td>\n",
       "      <td>6</td>\n",
       "      <td>G</td>\n",
       "    </tr>\n",
       "    <tr>\n",
       "      <th>7</th>\n",
       "      <td>R</td>\n",
       "      <td>17</td>\n",
       "      <td>20</td>\n",
       "      <td>U</td>\n",
       "    </tr>\n",
       "    <tr>\n",
       "      <th>8</th>\n",
       "      <td>E</td>\n",
       "      <td>4</td>\n",
       "      <td>7</td>\n",
       "      <td>H</td>\n",
       "    </tr>\n",
       "    <tr>\n",
       "      <th>9</th>\n",
       "      <td>D</td>\n",
       "      <td>3</td>\n",
       "      <td>6</td>\n",
       "      <td>G</td>\n",
       "    </tr>\n",
       "    <tr>\n",
       "      <th>10</th>\n",
       "      <td>A</td>\n",
       "      <td>0</td>\n",
       "      <td>3</td>\n",
       "      <td>D</td>\n",
       "    </tr>\n",
       "    <tr>\n",
       "      <th>11</th>\n",
       "      <td>N</td>\n",
       "      <td>13</td>\n",
       "      <td>16</td>\n",
       "      <td>Q</td>\n",
       "    </tr>\n",
       "    <tr>\n",
       "      <th>12</th>\n",
       "      <td>D</td>\n",
       "      <td>3</td>\n",
       "      <td>6</td>\n",
       "      <td>G</td>\n",
       "    </tr>\n",
       "    <tr>\n",
       "      <th>13</th>\n",
       "      <td>T</td>\n",
       "      <td>19</td>\n",
       "      <td>22</td>\n",
       "      <td>W</td>\n",
       "    </tr>\n",
       "    <tr>\n",
       "      <th>14</th>\n",
       "      <td>H</td>\n",
       "      <td>7</td>\n",
       "      <td>10</td>\n",
       "      <td>K</td>\n",
       "    </tr>\n",
       "    <tr>\n",
       "      <th>15</th>\n",
       "      <td>I</td>\n",
       "      <td>8</td>\n",
       "      <td>11</td>\n",
       "      <td>L</td>\n",
       "    </tr>\n",
       "    <tr>\n",
       "      <th>16</th>\n",
       "      <td>R</td>\n",
       "      <td>17</td>\n",
       "      <td>20</td>\n",
       "      <td>U</td>\n",
       "    </tr>\n",
       "    <tr>\n",
       "      <th>17</th>\n",
       "      <td>T</td>\n",
       "      <td>19</td>\n",
       "      <td>22</td>\n",
       "      <td>W</td>\n",
       "    </tr>\n",
       "    <tr>\n",
       "      <th>18</th>\n",
       "      <td>Y</td>\n",
       "      <td>24</td>\n",
       "      <td>1</td>\n",
       "      <td>B</td>\n",
       "    </tr>\n",
       "    <tr>\n",
       "      <th>19</th>\n",
       "      <td>T</td>\n",
       "      <td>19</td>\n",
       "      <td>22</td>\n",
       "      <td>W</td>\n",
       "    </tr>\n",
       "    <tr>\n",
       "      <th>20</th>\n",
       "      <td>W</td>\n",
       "      <td>22</td>\n",
       "      <td>25</td>\n",
       "      <td>Z</td>\n",
       "    </tr>\n",
       "    <tr>\n",
       "      <th>21</th>\n",
       "      <td>O</td>\n",
       "      <td>14</td>\n",
       "      <td>17</td>\n",
       "      <td>R</td>\n",
       "    </tr>\n",
       "  </tbody>\n",
       "</table>\n",
       "</div>"
      ],
      "text/plain": [
       "   letter  code  ceaser enc_letter\n",
       "0       S    18      21          V\n",
       "1       I     8      11          L\n",
       "2       X    23       0          A\n",
       "3       H     7      10          K\n",
       "4       U    20      23          X\n",
       "5       N    13      16          Q\n",
       "6       D     3       6          G\n",
       "7       R    17      20          U\n",
       "8       E     4       7          H\n",
       "9       D     3       6          G\n",
       "10      A     0       3          D\n",
       "11      N    13      16          Q\n",
       "12      D     3       6          G\n",
       "13      T    19      22          W\n",
       "14      H     7      10          K\n",
       "15      I     8      11          L\n",
       "16      R    17      20          U\n",
       "17      T    19      22          W\n",
       "18      Y    24       1          B\n",
       "19      T    19      22          W\n",
       "20      W    22      25          Z\n",
       "21      O    14      17          R"
      ]
     },
     "metadata": {},
     "output_type": "display_data"
    }
   ],
   "source": [
    "import pandas as pd\n",
    "\n",
    "string = \"SIX HUNDRED AND THIRTY TWO\".replace(' ', '')\n",
    "codes = list(map(lambda c: ord(c) - ord('A'), string))\n",
    "ceaser = list(map(lambda p: (p + 3) % 26, codes))\n",
    "print(len(set(string)))\n",
    "\n",
    "df = pd.DataFrame({\n",
    "    'letter': list(string),\n",
    "    'code': codes,\n",
    "    'ceaser': ceaser,\n",
    "    'enc_letter': map(lambda c: chr(c + ord('A')), ceaser)\n",
    "})\n",
    "\n",
    "display(df.drop_duplicates())\n",
    "display(df)"
   ]
  },
  {
   "attachments": {
    "image.png": {
     "image/png": "[encoded data removed]"
    }
   },
   "cell_type": "markdown",
   "metadata": {},
   "source": [
    "![image.png](attachment:image.png)"
   ]
  },
  {
   "cell_type": "code",
   "execution_count": 10,
   "metadata": {},
   "outputs": [
    {
     "name": "stdout",
     "output_type": "stream",
     "text": [
      "34567981 91\n",
      "183211232 57\n",
      "220195744 21\n",
      "987255335 5\n"
     ]
    }
   ],
   "source": [
    "h = lambda k: k % 97\n",
    "\n",
    "for k in [34567981, 183211232, 220195744, 987255335]:\n",
    "    print(k, h(k))"
   ]
  },
  {
   "attachments": {
    "image.png": {
     "image/png": "[encoded data removed]"
    }
   },
   "cell_type": "markdown",
   "metadata": {},
   "source": [
    "![image.png](attachment:image.png)"
   ]
  },
  {
   "cell_type": "code",
   "execution_count": 11,
   "metadata": {},
   "outputs": [
    {
     "name": "stdout",
     "output_type": "stream",
     "text": [
      "104578690 58\n",
      "432222187 60\n",
      "372201919 52\n",
      "501338753 3\n"
     ]
    }
   ],
   "source": [
    "h = lambda k: k % 101\n",
    "\n",
    "for k in [104578690, 432222187, 372201919, 501338753]:\n",
    "    print(k, h(k))"
   ]
  },
  {
   "cell_type": "code",
   "execution_count": 12,
   "metadata": {},
   "outputs": [
    {
     "name": "stdout",
     "output_type": "stream",
     "text": [
      "6 4 3 6 4 \n",
      "1 0 2 7 6 "
     ]
    }
   ],
   "source": [
    "def rand(i, a, b, m, s):\n",
    "    if i == 0:\n",
    "        return s\n",
    "    return (a*rand(i-1, a, b, m, s) + b) % m\n",
    "\n",
    "for i in range(1, 6):\n",
    "    print(rand(i, 4, 1, 7, 3), end=\" \")\n",
    "print()\n",
    "\n",
    "for i in range(1, 6):\n",
    "    print(rand(i, 7, 2, 9, 5), end=\" \")"
   ]
  },
  {
   "cell_type": "code",
   "execution_count": 13,
   "metadata": {},
   "outputs": [
    {
     "name": "stdout",
     "output_type": "stream",
     "text": [
      "5\n",
      "2\n",
      "True\n",
      "False\n"
     ]
    }
   ],
   "source": [
    "def check_digit(upc):\n",
    "    checksum = 0\n",
    "    for i in range(11):\n",
    "        checksum += int(upc[i]) * (3 if i % 2 == 0 else 1)\n",
    "\n",
    "    return -checksum % 10\n",
    "\n",
    "\n",
    "for upc in [\"73232184434\", \"63623991346\"]:\n",
    "    print(check_digit(upc))\n",
    "\n",
    "for upc in [\"036000291452\", \"012345678903\"]:\n",
    "    print(check_digit(upc) == int(upc[-1]))"
   ]
  },
  {
   "cell_type": "code",
   "execution_count": 14,
   "metadata": {},
   "outputs": [
    {
     "data": {
      "text/plain": [
       "array([18,  4, 12,  4, 18, 19,  4, 17])"
      ]
     },
     "execution_count": 14,
     "metadata": {},
     "output_type": "execute_result"
    }
   ],
   "source": [
    "np.array(list(map(lambda a: ord(a) - ord('A'), \"SEMESTER\")))"
   ]
  },
  {
   "cell_type": "code",
   "execution_count": 15,
   "metadata": {},
   "outputs": [
    {
     "data": {
      "text/plain": [
       "(7, 14)"
      ]
     },
     "execution_count": 15,
     "metadata": {},
     "output_type": "execute_result"
    }
   ],
   "source": [
    "np.divmod(133, 17)"
   ]
  },
  {
   "cell_type": "code",
   "execution_count": 16,
   "metadata": {},
   "outputs": [
    {
     "name": "stdout",
     "output_type": "stream",
     "text": [
      "0000\n",
      "0001\n",
      "0010\n",
      "0011\n",
      "0100\n",
      "0101\n",
      "0110\n",
      "0111\n",
      "1000\n",
      "1001\n",
      "1010\n",
      "1011\n",
      "1100\n",
      "1101\n",
      "1110\n",
      "1111\n"
     ]
    }
   ],
   "source": [
    "for i in range(16):\n",
    "    print(bin(i)[2:].zfill(4))"
   ]
  },
  {
   "cell_type": "code",
   "execution_count": 31,
   "metadata": {},
   "outputs": [
    {
     "data": {
      "text/plain": [
       "3.7394"
      ]
     },
     "execution_count": 31,
     "metadata": {},
     "output_type": "execute_result"
    }
   ],
   "source": [
    "gpa = np.array([4, 4, 3.33, 3.33, 4, 4, 4, 3.33])\n",
    "ch  = np.array([3, 3, 3, 3, 2, 2, 1, 1])\n",
    "\n",
    "np.round((gpa * ch).sum() / ch.sum(), 4)"
   ]
  },
  {
   "cell_type": "code",
   "execution_count": null,
   "metadata": {},
   "outputs": [],
   "source": [
    "df = pd.DataFrame({\n",
    "    'GPA': [\n",
    "\n",
    "    ],\n",
    "    'CH': [\n",
    "\n",
    "    ],\n",
    "})"
   ]
  }
 ],
 "metadata": {
  "kernelspec": {
   "display_name": "paiFall24",
   "language": "python",
   "name": "python3"
  },
  "language_info": {
   "codemirror_mode": {
    "name": "ipython",
    "version": 3
   },
   "file_extension": ".py",
   "mimetype": "text/x-python",
   "name": "python",
   "nbconvert_exporter": "python",
   "pygments_lexer": "ipython3",
   "version": "3.12.3"
  }
 },
 "nbformat": 4,
 "nbformat_minor": 2
}
