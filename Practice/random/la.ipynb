{
 "cells": [
  {
   "cell_type": "code",
   "execution_count": 2,
   "metadata": {},
   "outputs": [],
   "source": [
    "from IPython.display import display as dsp\n",
    "import numpy as np"
   ]
  },
  {
   "cell_type": "code",
   "execution_count": 3,
   "metadata": {},
   "outputs": [
    {
     "data": {
      "text/plain": [
       "np.float64(-4.0)"
      ]
     },
     "metadata": {},
     "output_type": "display_data"
    },
    {
     "data": {
      "text/plain": [
       "array([[2, 1, 1, 1, 1, 1],\n",
       "       [1, 0, 2, 1, 0, 1],\n",
       "       [1, 2, 0, 0, 1, 1]])"
      ]
     },
     "metadata": {},
     "output_type": "display_data"
    },
    {
     "data": {
      "text/plain": [
       "array([ 0.5 , -0.25,  0.25])"
      ]
     },
     "metadata": {},
     "output_type": "display_data"
    },
    {
     "data": {
      "text/plain": [
       "array([ 0.5 ,  0.25, -0.25])"
      ]
     },
     "metadata": {},
     "output_type": "display_data"
    },
    {
     "data": {
      "text/plain": [
       "array([0. , 0.5, 0.5])"
      ]
     },
     "metadata": {},
     "output_type": "display_data"
    }
   ],
   "source": [
    "A = np.array([[2, 1, 1], [1, 0, 2], [1, 2, 0]])\n",
    "b1 = np.array([1, 1, 0])\n",
    "b2 = np.array([1, 0, 1])\n",
    "b3 = np.array([1, 1, 1])\n",
    "\n",
    "dsp(np.linalg.det(A))\n",
    "\n",
    "dsp(np.hstack((A, np.array([b1]).T, np.array([b2]).T, np.array([b3]).T)))\n",
    "\n",
    "dsp(np.linalg.solve(A, b1))\n",
    "dsp(np.linalg.solve(A, b2))\n",
    "dsp(np.linalg.solve(A, b3))"
   ]
  },
  {
   "cell_type": "code",
   "execution_count": 4,
   "metadata": {},
   "outputs": [
    {
     "data": {
      "text/plain": [
       "array([[ 2,  4,  8],\n",
       "       [-1,  1, -1],\n",
       "       [ 3,  2,  8]])"
      ]
     },
     "metadata": {},
     "output_type": "display_data"
    },
    {
     "data": {
      "text/plain": [
       "np.float64(0.0)"
      ]
     },
     "metadata": {},
     "output_type": "display_data"
    },
    {
     "name": "stdout",
     "output_type": "stream",
     "text": [
      "[2 4 8] [-1  1 -1] [3 2 8] Do not span R3\n"
     ]
    }
   ],
   "source": [
    "A = np.array([[2, 4, 8], [-1, 1, -1], [3, 2, 8]])\n",
    "\n",
    "dsp(A)\n",
    "\n",
    "dsp(np.linalg.det(A))\n",
    "\n",
    "for row in A:\n",
    "    print(row, end=' ')\n",
    "print('Do not span R3')"
   ]
  },
  {
   "cell_type": "code",
   "execution_count": 5,
   "metadata": {},
   "outputs": [
    {
     "data": {
      "text/plain": [
       "array([[ 1,  3,  5, -2],\n",
       "       [-1,  1, -1, -2],\n",
       "       [ 2,  0,  4,  2]])"
      ]
     },
     "metadata": {},
     "output_type": "display_data"
    }
   ],
   "source": [
    "# DETERMINE WHETHER THE GIVEN POLYNOMIALS SPAN P2\n",
    "\n",
    "A = np.array([\n",
    "    [1, -1, 2],\n",
    "    [3, 1, 0],\n",
    "    [5, -1, 4],\n",
    "    [-2, -2, 2]\n",
    "]).T\n",
    "\n",
    "dsp(A)"
   ]
  },
  {
   "cell_type": "code",
   "execution_count": 6,
   "metadata": {},
   "outputs": [
    {
     "data": {
      "text/plain": [
       "np.float64(0.0)"
      ]
     },
     "metadata": {},
     "output_type": "display_data"
    }
   ],
   "source": [
    "A = np.matrix([\n",
    "    [1, 1, 0, 0],\n",
    "    [0, 1, 1, 0],\n",
    "    [1, 0, 0, 1],\n",
    "    [0, 0, 1, 1]\n",
    "])\n",
    "\n",
    "dsp(np.linalg.det(A))\n",
    "\n",
    "# does not span M22"
   ]
  },
  {
   "cell_type": "code",
   "execution_count": 7,
   "metadata": {},
   "outputs": [
    {
     "name": "stdout",
     "output_type": "stream",
     "text": [
      "Matrix Before Converting:\n",
      "[[ 0  6  4]\n",
      " [ 3  0 -7]\n",
      " [ 1  5  1]\n",
      " [-1  1  3]]\n",
      "\n",
      "After Converting to Row Echelon Form:\n",
      "[[ 1  0 -3]\n",
      " [ 0  1  0]\n",
      " [ 0  0  1]\n",
      " [ 0  0  0]]\n",
      "In REF\n"
     ]
    }
   ],
   "source": [
    "def is_row_echelon_form(matrix): \n",
    "\tif not matrix.any(): \n",
    "\t\treturn False\n",
    "\n",
    "\trows = matrix.shape[0] \n",
    "\tcols = matrix.shape[1] \n",
    "\tprev_leading_col = -1\n",
    "\n",
    "\tfor row in range(rows): \n",
    "\t\tleading_col_found = False\n",
    "\t\tfor col in range(cols): \n",
    "\t\t\tif matrix[row, col] != 0: \n",
    "\t\t\t\tif col <= prev_leading_col: \n",
    "\t\t\t\t\treturn False\n",
    "\t\t\t\tprev_leading_col = col \n",
    "\t\t\t\tleading_col_found = True\n",
    "\t\t\t\tbreak\n",
    "\t\tif not leading_col_found and any(matrix[row, col] != 0 for col in range(cols)): \n",
    "\t\t\treturn False\n",
    "\treturn True\n",
    "\n",
    "def find_nonzero_row(matrix, pivot_row, col): \n",
    "\tnrows = matrix.shape[0] \n",
    "\tfor row in range(pivot_row, nrows): \n",
    "\t\tif matrix[row, col] != 0: \n",
    "\t\t\treturn row \n",
    "\treturn None\n",
    "\n",
    "# Swapping rows so that we can have our non zero row on the top of the matrix \n",
    "def swap_rows(matrix, row1, row2): \n",
    "\tmatrix[[row1, row2]] = matrix[[row2, row1]] \n",
    "\n",
    "def make_pivot_one(matrix, pivot_row, col): \n",
    "\tpivot_element = matrix[pivot_row, col] \n",
    "\tmatrix[pivot_row] //= pivot_element \n",
    "\t# print(pivot_element) \n",
    "\n",
    "def eliminate_below(matrix, pivot_row, col): \n",
    "\tnrows = matrix.shape[0] \n",
    "\tpivot_element = matrix[pivot_row, col] \n",
    "\tfor row in range(pivot_row + 1, nrows): \n",
    "\t\tfactor = matrix[row, col] \n",
    "\t\tmatrix[row] -= factor * matrix[pivot_row] \n",
    "\n",
    "# Implementing above functions \n",
    "def row_echelon_form(matrix): \n",
    "\tnrows = matrix.shape[0] \n",
    "\tncols = matrix.shape[1] \n",
    "\tpivot_row = 0\n",
    "# this will run for number of column times. If matrix has 3 columns this loop will run for 3 times \n",
    "\tfor col in range(ncols): \n",
    "\t\tnonzero_row = find_nonzero_row(matrix, pivot_row, col) \n",
    "\t\tif nonzero_row is not None: \n",
    "\t\t\tswap_rows(matrix, pivot_row, nonzero_row) \n",
    "\t\t\tmake_pivot_one(matrix, pivot_row, col) \n",
    "\t\t\teliminate_below(matrix, pivot_row, col) \n",
    "\t\t\tpivot_row += 1\n",
    "\treturn matrix \n",
    "\n",
    "def REF(matrix: np.array):\n",
    "    print(\"Matrix Before Converting:\") \n",
    "    print(matrix) \n",
    "    print() \n",
    "    result = row_echelon_form(matrix) \n",
    "    print(\"After Converting to Row Echelon Form:\") \n",
    "    print(result) \n",
    "    if is_row_echelon_form(result): \n",
    "        print(\"In REF\") \n",
    "    else: \n",
    "        print(\"Not in REF--------------->\")\n",
    "\n",
    "REF(np.array([[0, 6, 4], [3, 0, -7], [1, 5, 1], [-1, 1, 3]]))"
   ]
  },
  {
   "cell_type": "code",
   "execution_count": 19,
   "metadata": {},
   "outputs": [
    {
     "data": {
      "text/plain": [
       "2"
      ]
     },
     "execution_count": 19,
     "metadata": {},
     "output_type": "execute_result"
    }
   ],
   "source": [
    "def sqrt(n: int) -> int:\n",
    "    def search(l: float, r: float):\n",
    "        mid = (r + l) / 2\n",
    "\n",
    "        midsq = mid*mid\n",
    "        if int(midsq) == n:\n",
    "            return mid\n",
    "        elif midsq < n:\n",
    "            return search(mid, r)\n",
    "        else:\n",
    "            return search(l, mid)\n",
    "    return int(search(0, n))\n",
    "\n",
    "sqrt(8)"
   ]
  },
  {
   "cell_type": "code",
   "execution_count": 20,
   "metadata": {},
   "outputs": [
    {
     "data": {
      "text/plain": [
       "np.float64(47.999999999999986)"
      ]
     },
     "execution_count": 20,
     "metadata": {},
     "output_type": "execute_result"
    }
   ],
   "source": [
    "np.linalg.det([[3, 0, 0, 1], [6, -1, -8, 0], [3, -1, -12, -1], [-6, 0, -4, 2]])"
   ]
  },
  {
   "cell_type": "code",
   "execution_count": 46,
   "metadata": {},
   "outputs": [
    {
     "name": "stdout",
     "output_type": "stream",
     "text": [
      "xxy*x+y/+\n",
      "+x/+*xyxy\n"
     ]
    }
   ],
   "source": [
    "prec = {\n",
    "    '+': 1, '-': 1,\n",
    "    '*': 2, '/': 2,\n",
    "    '(': 0, ')': 0\n",
    "}\n",
    "\n",
    "def postfix(infix: str) -> str:\n",
    "    s = []\n",
    "    res = ''\n",
    "\n",
    "    for c in infix:\n",
    "        if c == ' ':\n",
    "            continue\n",
    "        if c.isalnum():\n",
    "            res += c\n",
    "        elif c == '(':\n",
    "            s.append(c)\n",
    "        elif c == ')':\n",
    "            while s and s[-1] != '(':\n",
    "                res += s.pop()\n",
    "            s.pop()\n",
    "        else:\n",
    "            while s and prec[c] <= prec[s[-1]]:\n",
    "                res += s.pop()\n",
    "            s.append(c)\n",
    "        \n",
    "    while s:\n",
    "        res += s.pop()\n",
    "    return res\n",
    "\n",
    "def prefix(infix: str) -> str:\n",
    "    return postfix(''.join(')' if c == '(' else '(' if c  == ')' else c for c in infix[::-1]))[::-1]\n",
    "\n",
    "print(postfix(' x + ((x*y + x) / y)'))\n",
    "print(prefix(' x + ((x*y + x) / y)'))\n"
   ]
  }
 ],
 "metadata": {
  "kernelspec": {
   "display_name": "paiFall24",
   "language": "python",
   "name": "python3"
  },
  "language_info": {
   "codemirror_mode": {
    "name": "ipython",
    "version": 3
   },
   "file_extension": ".py",
   "mimetype": "text/x-python",
   "name": "python",
   "nbconvert_exporter": "python",
   "pygments_lexer": "ipython3",
   "version": "3.12.3"
  }
 },
 "nbformat": 4,
 "nbformat_minor": 2
}
