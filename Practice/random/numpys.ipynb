{
 "cells": [
  {
   "cell_type": "code",
   "execution_count": 695,
   "metadata": {},
   "outputs": [],
   "source": [
    "import numpy as np\n",
    "from IPython.display import display as printf"
   ]
  },
  {
   "cell_type": "code",
   "execution_count": 8,
   "metadata": {},
   "outputs": [
    {
     "data": {
      "text/plain": [
       "array([1, 2, 3])"
      ]
     },
     "execution_count": 8,
     "metadata": {},
     "output_type": "execute_result"
    }
   ],
   "source": [
    "x = [1, 2, 3]\n",
    "np.array(x)"
   ]
  },
  {
   "cell_type": "code",
   "execution_count": 9,
   "metadata": {},
   "outputs": [
    {
     "data": {
      "text/plain": [
       "array([[1, 2, 3],\n",
       "       [1, 2, 3],\n",
       "       [1, 2, 3]])"
      ]
     },
     "execution_count": 9,
     "metadata": {},
     "output_type": "execute_result"
    }
   ],
   "source": [
    "x_m = [x, x, x]\n",
    "np.array(x_m)"
   ]
  },
  {
   "cell_type": "code",
   "execution_count": 30,
   "metadata": {},
   "outputs": [
    {
     "data": {
      "text/plain": [
       "array([0, 2, 4, 6, 8])"
      ]
     },
     "execution_count": 30,
     "metadata": {},
     "output_type": "execute_result"
    }
   ],
   "source": [
    "# kinda like range but this one generates an array\n",
    "np.arange(0, 10, 2)"
   ]
  },
  {
   "cell_type": "code",
   "execution_count": 31,
   "metadata": {},
   "outputs": [
    {
     "data": {
      "text/plain": [
       "array([[0., 0., 0., 0., 0., 0., 0., 0., 0., 0.],\n",
       "       [0., 0., 0., 0., 0., 0., 0., 0., 0., 0.],\n",
       "       [0., 0., 0., 0., 0., 0., 0., 0., 0., 0.],\n",
       "       [0., 0., 0., 0., 0., 0., 0., 0., 0., 0.],\n",
       "       [0., 0., 0., 0., 0., 0., 0., 0., 0., 0.],\n",
       "       [0., 0., 0., 0., 0., 0., 0., 0., 0., 0.],\n",
       "       [0., 0., 0., 0., 0., 0., 0., 0., 0., 0.],\n",
       "       [0., 0., 0., 0., 0., 0., 0., 0., 0., 0.],\n",
       "       [0., 0., 0., 0., 0., 0., 0., 0., 0., 0.],\n",
       "       [0., 0., 0., 0., 0., 0., 0., 0., 0., 0.]])"
      ]
     },
     "execution_count": 31,
     "metadata": {},
     "output_type": "execute_result"
    }
   ],
   "source": [
    "# used to generate a 0 matrix\n",
    "np.zeros((10, 10))"
   ]
  },
  {
   "cell_type": "code",
   "execution_count": 33,
   "metadata": {},
   "outputs": [
    {
     "data": {
      "text/plain": [
       "array([[1, 1, 1, 1, 1],\n",
       "       [1, 1, 1, 1, 1],\n",
       "       [1, 1, 1, 1, 1],\n",
       "       [1, 1, 1, 1, 1],\n",
       "       [1, 1, 1, 1, 1]])"
      ]
     },
     "execution_count": 33,
     "metadata": {},
     "output_type": "execute_result"
    }
   ],
   "source": [
    "# used to generate a matrix with all 1s\n",
    "# (you can also specifiy types for both .zeroes and .ones)\n",
    "np.ones((5, 5), dtype=np.int64)"
   ]
  },
  {
   "cell_type": "code",
   "execution_count": 160,
   "metadata": {},
   "outputs": [
    {
     "data": {
      "text/plain": [
       "array([0.  , 0.33, 0.67, 1.  , 1.33, 1.67, 2.  , 2.33, 2.67, 3.  , 3.33,\n",
       "       3.67, 4.  ])"
      ]
     },
     "execution_count": 160,
     "metadata": {},
     "output_type": "execute_result"
    }
   ],
   "source": [
    "# generating linearly spaced n values from an interval\n",
    "# in this case 13 values from [0, 4]\n",
    "np.round(np.linspace(0, 4, 13), 2) # this\n",
    "# or...\n",
    "np.linspace(0, 4, 13).round(2)"
   ]
  },
  {
   "cell_type": "code",
   "execution_count": 73,
   "metadata": {},
   "outputs": [
    {
     "data": {
      "text/plain": [
       "array([[1., 0., 0.],\n",
       "       [0., 1., 0.],\n",
       "       [0., 0., 1.]])"
      ]
     },
     "execution_count": 73,
     "metadata": {},
     "output_type": "execute_result"
    }
   ],
   "source": [
    "# used to generate the eye-dentity matrix XD\n",
    "np.eye(3)"
   ]
  },
  {
   "cell_type": "code",
   "execution_count": 92,
   "metadata": {},
   "outputs": [
    {
     "data": {
      "text/plain": [
       "array([[0.57237741, 0.3696612 ],\n",
       "       [0.08870262, 0.34317067]])"
      ]
     },
     "execution_count": 92,
     "metadata": {},
     "output_type": "execute_result"
    }
   ],
   "source": [
    "# used to generate n^m values over a uniform distribution from [0, 1)\n",
    "# n = values\n",
    "# m = dimensions (different args)\n",
    "np.random.rand(2, 2)"
   ]
  },
  {
   "cell_type": "code",
   "execution_count": 93,
   "metadata": {},
   "outputs": [
    {
     "data": {
      "text/plain": [
       "array([[ 1.2563981 ,  0.39353752],\n",
       "       [ 0.29376238, -0.74485945]])"
      ]
     },
     "execution_count": 93,
     "metadata": {},
     "output_type": "execute_result"
    }
   ],
   "source": [
    "# used to generate from a normal distribution of sigma = 1\n",
    "# values closer to 0 are more likely to appear because of the nature of the distribution\n",
    "np.random.randn(2, 2)"
   ]
  },
  {
   "cell_type": "code",
   "execution_count": 99,
   "metadata": {},
   "outputs": [
    {
     "data": {
      "text/plain": [
       "array([7, 1, 6, 4, 9, 8, 8, 0, 7, 8], dtype=int32)"
      ]
     },
     "execution_count": 99,
     "metadata": {},
     "output_type": "execute_result"
    }
   ],
   "source": [
    "# returns n random values between provided interval [a, b)\n",
    "np.random.randint(0, 10, 10)"
   ]
  },
  {
   "cell_type": "code",
   "execution_count": 125,
   "metadata": {},
   "outputs": [
    {
     "data": {
      "text/plain": [
       "array([10,  5,  1,  2, 10,  1,  2,  9, 10,  1], dtype=int32)"
      ]
     },
     "execution_count": 125,
     "metadata": {},
     "output_type": "execute_result"
    }
   ],
   "source": [
    "# seed is used to generate the same random results\n",
    "np.random.seed(10)\n",
    "np.random.randint(1, 11, 10)"
   ]
  },
  {
   "cell_type": "code",
   "execution_count": 159,
   "metadata": {},
   "outputs": [
    {
     "data": {
      "text/plain": [
       "array([[5, 3, 7, 8, 9],\n",
       "       [9, 3, 1, 7, 8],\n",
       "       [9, 2, 8, 2, 5],\n",
       "       [1, 9, 6, 5, 8],\n",
       "       [9, 9, 3, 7, 3]], dtype=int32)"
      ]
     },
     "execution_count": 159,
     "metadata": {},
     "output_type": "execute_result"
    }
   ],
   "source": [
    "# re shapes the array (as the name suggests)\n",
    "np.random.seed(10)\n",
    "np.random.randint(1, 10, 25).reshape((5, 5)) # this\n",
    "# or...\n",
    "np.reshape(np.random.randint(1, 10, 25), (5, 5))"
   ]
  },
  {
   "cell_type": "code",
   "execution_count": 203,
   "metadata": {},
   "outputs": [
    {
     "name": "stdout",
     "output_type": "stream",
     "text": [
      "max: 9 at axis = 0: [2 0 3 3], axis = 1: [1 2 0 3]\n",
      "min: 1 at axis = 0: [0 2 0 0], axis = 1: [0 0 1 1]\n",
      "[[3 5]\n",
      " [2 4]]\n",
      "1\n"
     ]
    },
    {
     "data": {
      "text/plain": [
       "array([[1, 4, 2, 1],\n",
       "       [1, 3, 5, 3],\n",
       "       [8, 2, 4, 6],\n",
       "       [5, 2, 8, 9]], dtype=int32)"
      ]
     },
     "execution_count": 203,
     "metadata": {},
     "output_type": "execute_result"
    }
   ],
   "source": [
    "rarr = np.random.randint(1, 10, 16).reshape(4, 4)\n",
    "print(f'max: {rarr.max()} at axis = 0: {rarr.argmax(axis=0)}, axis = 1: {rarr.argmax(axis=1)}')\n",
    "print(f'min: {rarr.min()} at axis = 0: {rarr.argmin(axis=0)}, axis = 1: {rarr.argmin(axis=1)}')\n",
    "\n",
    "print(rarr[1:-1, 1:-1])\n",
    "print(rarr[0, -1])\n",
    "\n",
    "rarr"
   ]
  },
  {
   "cell_type": "code",
   "execution_count": 213,
   "metadata": {},
   "outputs": [
    {
     "data": {
      "text/plain": [
       "array([[0, 4, 2, 1],\n",
       "       [0, 3, 5, 3],\n",
       "       [0, 2, 4, 6],\n",
       "       [0, 2, 8, 9]], dtype=int32)"
      ]
     },
     "execution_count": 213,
     "metadata": {},
     "output_type": "execute_result"
    }
   ],
   "source": [
    "# array splicing returns a mutable window which changes the original array\n",
    "# applying a single value over a window is called broadcasting\n",
    "rarr[0:, :1] = 0\n",
    "rarr"
   ]
  },
  {
   "cell_type": "code",
   "execution_count": 266,
   "metadata": {},
   "outputs": [
    {
     "name": "stdout",
     "output_type": "stream",
     "text": [
      "[0.    0.364 1.091 1.455 1.818]\n"
     ]
    },
    {
     "data": {
      "text/plain": [
       "array([[0.   , 0.364, 0.727],\n",
       "       [1.091, 1.455, 1.818],\n",
       "       [2.182, 2.545, 2.909],\n",
       "       [3.273, 3.636, 4.   ]])"
      ]
     },
     "execution_count": 266,
     "metadata": {},
     "output_type": "execute_result"
    }
   ],
   "source": [
    "# vals can be conditionally selected from a window or the entire array itself\n",
    "vals = np.linspace(0, 4, 12).reshape(4, 3).round(3)\n",
    "print(vals[:2][(vals[:2] > 1) | (vals[:2] < 0.5)])\n",
    "vals"
   ]
  },
  {
   "cell_type": "code",
   "execution_count": 288,
   "metadata": {},
   "outputs": [
    {
     "name": "stdout",
     "output_type": "stream",
     "text": [
      "[  1  27 125 343 729]\n",
      "[  0  16  64 144 256]\n"
     ]
    }
   ],
   "source": [
    "# operations can be performed on all values of the array\n",
    "print(np.arange(1, 10, 2)**3)\n",
    "print((np.arange(1, 10, 2) + np.arange(0, 10, 2) - 1)**2)"
   ]
  },
  {
   "cell_type": "code",
   "execution_count": 349,
   "metadata": {},
   "outputs": [
    {
     "name": "stdout",
     "output_type": "stream",
     "text": [
      "sum = 91, axis = 0: [47 44], axis = 1: [12 11  7  7  4  5 10 15 11  9]\n",
      "mean = 4.55, axis = 0: [4.7 4.4], axis = 1: [6.  5.5 3.5 3.5 2.  2.5 5.  7.5 5.5 4.5]\n"
     ]
    },
    {
     "data": {
      "text/plain": [
       "array([[8, 4],\n",
       "       [6, 5],\n",
       "       [2, 5],\n",
       "       [1, 6],\n",
       "       [0, 4],\n",
       "       [2, 3],\n",
       "       [9, 1],\n",
       "       [7, 8],\n",
       "       [4, 7],\n",
       "       [8, 1]], dtype=int32)"
      ]
     },
     "execution_count": 349,
     "metadata": {},
     "output_type": "execute_result"
    }
   ],
   "source": [
    "rarr = np.random.randint(0, 10, 20).reshape(10, 2)\n",
    "print(f'sum = {rarr.sum()}, axis = 0: {rarr.sum(axis=0)}, axis = 1: {rarr.sum(axis=1)}')\n",
    "print(f'mean = {rarr.mean()}, axis = 0: {rarr.mean(axis=0)}, axis = 1: {rarr.mean(axis=1)}')\n",
    "\n",
    "rarr"
   ]
  },
  {
   "cell_type": "code",
   "execution_count": 351,
   "metadata": {},
   "outputs": [
    {
     "data": {
      "text/plain": [
       "array([ 0. ,  0.1,  0.2,  0.3,  0.4,  0.5,  0.6,  0.7,  0.8,  0.9,  1. ,\n",
       "        1.1,  1.2,  1.3,  1.4,  1.5,  1.6,  1.7,  1.8,  1.9,  2. ,  2.1,\n",
       "        2.2,  2.3,  2.4,  2.5,  2.6,  2.7,  2.8,  2.9,  3. ,  3.1,  3.2,\n",
       "        3.3,  3.4,  3.5,  3.6,  3.7,  3.8,  3.9,  4. ,  4.1,  4.2,  4.3,\n",
       "        4.4,  4.5,  4.6,  4.7,  4.8,  4.9,  5. ,  5.1,  5.2,  5.3,  5.4,\n",
       "        5.5,  5.6,  5.7,  5.8,  5.9,  6. ,  6.1,  6.2,  6.3,  6.4,  6.5,\n",
       "        6.6,  6.7,  6.8,  6.9,  7. ,  7.1,  7.2,  7.3,  7.4,  7.5,  7.6,\n",
       "        7.7,  7.8,  7.9,  8. ,  8.1,  8.2,  8.3,  8.4,  8.5,  8.6,  8.7,\n",
       "        8.8,  8.9,  9. ,  9.1,  9.2,  9.3,  9.4,  9.5,  9.6,  9.7,  9.8,\n",
       "        9.9, 10. ])"
      ]
     },
     "execution_count": 351,
     "metadata": {},
     "output_type": "execute_result"
    }
   ],
   "source": [
    "myarray = np.linspace(0, 10, 101)\n",
    "myarray"
   ]
  },
  {
   "cell_type": "code",
   "execution_count": 520,
   "metadata": {},
   "outputs": [
    {
     "name": "stdout",
     "output_type": "stream",
     "text": [
      "[4 4 3 3 3 6]\n"
     ]
    },
    {
     "data": {
      "text/plain": [
       "array([4, 1, 2, 4, 2, 3, 3, 3, 1, 6], dtype=int32)"
      ]
     },
     "execution_count": 520,
     "metadata": {},
     "output_type": "execute_result"
    }
   ],
   "source": [
    "dice_rolls = np.random.randint(1, 7, 10)\n",
    "print(dice_rolls[dice_rolls > 2])\n",
    "dice_rolls"
   ]
  },
  {
   "cell_type": "code",
   "execution_count": 576,
   "metadata": {},
   "outputs": [
    {
     "name": "stdout",
     "output_type": "stream",
     "text": [
      "[1 5 9 13 17]\n"
     ]
    },
    {
     "data": {
      "text/plain": [
       "(array([[10, 12],\n",
       "        [14, 16]], dtype=object),\n",
       " array([[5, 7],\n",
       "        [9, 11]], dtype=object))"
      ]
     },
     "execution_count": 576,
     "metadata": {},
     "output_type": "execute_result"
    }
   ],
   "source": [
    "# used to bind a function as a universal numpy array\n",
    "# takes 3 params:\n",
    "# function, number of input params, output values\n",
    "\n",
    "add2_1 = np.frompyfunc(lambda x, y: x+y, 2, 1)\n",
    "add2_2 = np.frompyfunc(lambda x, y: (x*2, x+y), 2, 2)\n",
    "\n",
    "print(add2_1(np.arange(1, 10, 2), np.arange(0, 10, 2)))\n",
    "add2_2(np.arange(5, 9).reshape(2, 2), np.arange(0, 4).reshape(2, 2))"
   ]
  },
  {
   "cell_type": "code",
   "execution_count": 604,
   "metadata": {},
   "outputs": [
    {
     "data": {
      "text/plain": [
       "array([12,  4,  5,  6])"
      ]
     },
     "execution_count": 604,
     "metadata": {},
     "output_type": "execute_result"
    }
   ],
   "source": [
    "# kinda like frompyfunc but it's mainly used to loop over a parameter\n",
    "\n",
    "sub = np.vectorize(lambda x, y: x-y if x > y else x)\n",
    "sub([10, 2, 3, 4], -2)"
   ]
  },
  {
   "cell_type": "code",
   "execution_count": 623,
   "metadata": {},
   "outputs": [
    {
     "data": {
      "text/plain": [
       "array(['1', '3', '5', '7', '9'], dtype=object)"
      ]
     },
     "execution_count": 623,
     "metadata": {},
     "output_type": "execute_result"
    }
   ],
   "source": [
    "# frompyfunc can also be used as a map over numpy arrays\n",
    "\n",
    "np.array(list(map(str, np.arange(1, 10, 2))))\n",
    "np.frompyfunc(str, 1, 1)(np.arange(1, 10, 2))"
   ]
  },
  {
   "cell_type": "code",
   "execution_count": 678,
   "metadata": {},
   "outputs": [
    {
     "name": "stdout",
     "output_type": "stream",
     "text": [
      "first: [2 6 5 1 2 4 5 2 6 1]\n",
      "second: [6 2 3 1 2 1 3 1 5 4]\n",
      "\n",
      "add: [ 8  8  8  2  4  5  8  3 11  5]\n",
      "sub: [-4  4  2  0  0  3  2  1  1 -3]\n",
      "mul: [12 12 15  1  4  4 15  2 30  4]\n",
      "div: [0.33333333 3.         1.66666667 1.         1.         4.\n",
      " 1.66666667 2.         1.2        0.25      ]\n",
      "pow: [  64   36  125    1    4    4  125    2 7776    1]\n",
      "mod: [2 0 2 0 0 0 2 0 1 1]\n",
      "divmod:  [0 3 1 1 1 4 1 2 1 0] [2 0 2 0 0 0 2 0 1 1]\n",
      "abs: [2 6 5 1 2 4 5 2 6 1] [6 2 3 1 2 1 3 1 5 4]\n"
     ]
    }
   ],
   "source": [
    "# numpy operator functions\n",
    "\n",
    "np.random.seed(10)\n",
    "\n",
    "ten_rolls = lambda: np.random.randint(1, 7, 10)\n",
    "\n",
    "rolls1, rolls2 = [np.random.randint(1, 7, 10) for _ in range(2)]\n",
    "print(f'first: {rolls1}')\n",
    "print(f'second: {rolls2}')\n",
    "print()\n",
    "print(f'add: {np.add(rolls1, rolls2)}')\n",
    "print(f'sub: {np.subtract(rolls1, rolls2)}')\n",
    "print(f'mul: {np.multiply(rolls1, rolls2)}')\n",
    "print(f'div: {np.divide(rolls1, rolls2)}')\n",
    "print(f'pow: {np.pow(rolls1, rolls2)}')\n",
    "print(f'mod: {np.mod(rolls1, rolls2)}')\n",
    "print('divmod: ', *np.divmod(rolls1, rolls2))\n",
    "print(f'abs: {np.abs(rolls1)} {np.abs(rolls2)}')"
   ]
  },
  {
   "cell_type": "code",
   "execution_count": 723,
   "metadata": {},
   "outputs": [
    {
     "data": {
      "text/plain": [
       "array([-21.31712108,  -0.48830511,   3.93341217,   2.17265145,\n",
       "       -19.9439377 ])"
      ]
     },
     "metadata": {},
     "output_type": "display_data"
    },
    {
     "name": "stdout",
     "output_type": "stream",
     "text": [
      "trunc: [-21.  -0.   3.   2. -19.]\n",
      "round: [-21.  -0.   4.   2. -20.]\n",
      "ceil : [-21.  -0.   4.   3. -19.]\n",
      "floor: [-22.  -1.   3.   2. -20.]\n"
     ]
    }
   ],
   "source": [
    "# numpy functions that deal with decimals\n",
    "rarr = np.random.randn(5) * 10\n",
    "\n",
    "printf(rarr)\n",
    "\n",
    "print(f'trunc: {np.trunc(rarr)}')\n",
    "print(f'round: {np.around(rarr)}')\n",
    "print(f'ceil : {np.ceil(rarr)}') \n",
    "print(f'floor: {np.floor(rarr)}') "
   ]
  },
  {
   "cell_type": "code",
   "execution_count": 751,
   "metadata": {},
   "outputs": [
    {
     "data": {
      "text/plain": [
       "array([0, 4, 1, 4, 2], dtype=int32)"
      ]
     },
     "metadata": {},
     "output_type": "display_data"
    },
    {
     "data": {
      "text/plain": [
       "array([1, 1, 4, 3, 3], dtype=int32)"
      ]
     },
     "metadata": {},
     "output_type": "display_data"
    },
    {
     "name": "stdout",
     "output_type": "stream",
     "text": [
      "unqiue: [0 1 2 4] [1 3 4]\n",
      "union: [0 1 2 3 4]\n",
      "intersect: [1 4]\n",
      "diff: [0 2]\n"
     ]
    }
   ],
   "source": [
    "# numpy also provides set like functionality\n",
    "\n",
    "rarr1, rarr2 = [np.random.randint(0, 5, 5) for _ in range(2)]\n",
    "printf(rarr1, rarr2)\n",
    "\n",
    "print(f'unqiue: {np.unique(rarr1)} {np.unique(rarr2)}')\n",
    "print(f'union: {np.union1d(rarr1, rarr2)}')\n",
    "print(f'intersect: {np.intersect1d(rarr1, rarr2)}')\n",
    "print(f'diff: {np.setdiff1d(rarr1, rarr2)}')"
   ]
  },
  {
   "cell_type": "code",
   "execution_count": 813,
   "metadata": {},
   "outputs": [
    {
     "name": "stdout",
     "output_type": "stream",
     "text": [
      "num1 = 81, num2 = 24, gcd = 3, lcm = 648\n",
      "rarr: [85 10 83 25 45 59 92 91 89 34], gcd = 1, lcm = -238421268\n"
     ]
    }
   ],
   "source": [
    "# you can also use numpy to find the gcd of two numbers\n",
    "num1, num2 = np.random.randint(1, 100), np.random.randint(1, 100)\n",
    "print(f'num1 = {num1}, num2 = {num2}, gcd = {np.gcd(num1, num2)}, lcm = {np.lcm(num1, num2)}')\n",
    "\n",
    "rarr = np.random.randint(1, 100, 10)\n",
    "print(f'rarr: {rarr}, gcd = {np.gcd.reduce(rarr)}, lcm = {np.lcm.reduce(rarr)}')"
   ]
  },
  {
   "cell_type": "code",
   "execution_count": 829,
   "metadata": {},
   "outputs": [
    {
     "data": {
      "text/plain": [
       "array([3, 8, 7], dtype=int32)"
      ]
     },
     "metadata": {},
     "output_type": "display_data"
    },
    {
     "data": {
      "text/plain": [
       "array([ 5, -1], dtype=int32)"
      ]
     },
     "metadata": {},
     "output_type": "display_data"
    },
    {
     "data": {
      "text/plain": [
       "array([-6], dtype=int32)"
      ]
     },
     "execution_count": 829,
     "metadata": {},
     "output_type": "execute_result"
    }
   ],
   "source": [
    "# used to find difference between current and next value. can be performed n times\n",
    "rarr = np.random.randint(0, 10, 3)\n",
    "printf(rarr)\n",
    "printf(np.diff(rarr))\n",
    "np.diff(rarr, 2)"
   ]
  },
  {
   "cell_type": "code",
   "execution_count": 926,
   "metadata": {},
   "outputs": [
    {
     "data": {
      "text/plain": [
       "-0.5188412362969472"
      ]
     },
     "metadata": {},
     "output_type": "display_data"
    },
    {
     "data": {
      "text/plain": [
       "array([2, 4, 3, 1, 2, 1, 3, 2, 3, 4], dtype=int32)"
      ]
     },
     "metadata": {},
     "output_type": "display_data"
    },
    {
     "data": {
      "text/plain": [
       "array([2, 4, 6, 3, 3, 1, 6, 6, 1, 4], dtype=int32)"
      ]
     },
     "metadata": {},
     "output_type": "display_data"
    },
    {
     "data": {
      "text/plain": [
       "array([2.06625835])"
      ]
     },
     "metadata": {},
     "output_type": "display_data"
    },
    {
     "data": {
      "text/plain": [
       "array([[-17.12229449],\n",
       "       [  9.60240127]])"
      ]
     },
     "metadata": {},
     "output_type": "display_data"
    }
   ],
   "source": [
    "printf(np.random.normal(loc=0, scale=10))\n",
    "printf(np.random.binomial(5, 0.5, 10))\n",
    "printf(np.random.poisson(3, 10))\n",
    "printf(np.random.uniform(1, 10, 1))\n",
    "printf(np.random.logistic(1, 10, (2, 1)))"
   ]
  }
 ],
 "metadata": {
  "kernelspec": {
   "display_name": "paiFall24",
   "language": "python",
   "name": "python3"
  },
  "language_info": {
   "codemirror_mode": {
    "name": "ipython",
    "version": 3
   },
   "file_extension": ".py",
   "mimetype": "text/x-python",
   "name": "python",
   "nbconvert_exporter": "python",
   "pygments_lexer": "ipython3",
   "version": "3.12.3"
  }
 },
 "nbformat": 4,
 "nbformat_minor": 2
}
