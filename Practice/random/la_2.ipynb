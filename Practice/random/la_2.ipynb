{
 "cells": [
  {
   "cell_type": "code",
   "execution_count": 3,
   "metadata": {},
   "outputs": [],
   "source": [
    "from sympy import Matrix\n",
    "import numpy as np"
   ]
  },
  {
   "cell_type": "code",
   "execution_count": 28,
   "metadata": {},
   "outputs": [
    {
     "name": "stdout",
     "output_type": "stream",
     "text": [
      "MAT\n"
     ]
    },
    {
     "data": {
      "text/latex": [
       "$\\displaystyle \\left[\\begin{matrix}1 & 0 & -2 & 0\\\\1 & 0 & 0 & -3\\\\0 & 1 & 2 & 0\\\\0 & 1 & 2 & 3\\end{matrix}\\right]$"
      ],
      "text/plain": [
       "Matrix([\n",
       "[1, 0, -2,  0],\n",
       "[1, 0,  0, -3],\n",
       "[0, 1,  2,  0],\n",
       "[0, 1,  2,  3]])"
      ]
     },
     "metadata": {},
     "output_type": "display_data"
    },
    {
     "name": "stdout",
     "output_type": "stream",
     "text": [
      "REF\n"
     ]
    },
    {
     "data": {
      "text/latex": [
       "$\\displaystyle \\left[\\begin{matrix}1 & 0 & -2 & 0\\\\0 & 1 & 2 & 0\\\\0 & 0 & 2 & -3\\\\0 & 0 & 0 & 3\\end{matrix}\\right]$"
      ],
      "text/plain": [
       "Matrix([\n",
       "[1, 0, -2,  0],\n",
       "[0, 1,  2,  0],\n",
       "[0, 0,  2, -3],\n",
       "[0, 0,  0,  3]])"
      ]
     },
     "metadata": {},
     "output_type": "display_data"
    },
    {
     "name": "stdout",
     "output_type": "stream",
     "text": [
      "RREF\n"
     ]
    },
    {
     "data": {
      "text/latex": [
       "$\\displaystyle \\left[\\begin{matrix}1 & 0 & 0 & 0\\\\0 & 1 & 0 & 0\\\\0 & 0 & 1 & 0\\\\0 & 0 & 0 & 1\\end{matrix}\\right]$"
      ],
      "text/plain": [
       "Matrix([\n",
       "[1, 0, 0, 0],\n",
       "[0, 1, 0, 0],\n",
       "[0, 0, 1, 0],\n",
       "[0, 0, 0, 1]])"
      ]
     },
     "metadata": {},
     "output_type": "display_data"
    },
    {
     "name": "stdout",
     "output_type": "stream",
     "text": [
      "[A | I]\n"
     ]
    },
    {
     "data": {
      "text/latex": [
       "$\\displaystyle \\left[\\begin{matrix}1 & 0 & -2 & 0 & 1 & 0 & 0 & 0\\\\1 & 0 & 0 & -3 & 0 & 1 & 0 & 0\\\\0 & 1 & 2 & 0 & 0 & 0 & 1 & 0\\\\0 & 1 & 2 & 3 & 0 & 0 & 0 & 1\\end{matrix}\\right]$"
      ],
      "text/plain": [
       "Matrix([\n",
       "[1, 0, -2,  0, 1, 0, 0, 0],\n",
       "[1, 0,  0, -3, 0, 1, 0, 0],\n",
       "[0, 1,  2,  0, 0, 0, 1, 0],\n",
       "[0, 1,  2,  3, 0, 0, 0, 1]])"
      ]
     },
     "metadata": {},
     "output_type": "display_data"
    },
    {
     "name": "stdout",
     "output_type": "stream",
     "text": [
      "[R | E]\n"
     ]
    },
    {
     "data": {
      "text/latex": [
       "$\\displaystyle \\left[\\begin{matrix}1 & 0 & 0 & 0 & 0 & 1 & -1 & 1\\\\0 & 1 & 0 & 0 & 1 & -1 & 2 & -1\\\\0 & 0 & 1 & 0 & - \\frac{1}{2} & \\frac{1}{2} & - \\frac{1}{2} & \\frac{1}{2}\\\\0 & 0 & 0 & 1 & 0 & 0 & - \\frac{1}{3} & \\frac{1}{3}\\end{matrix}\\right]$"
      ],
      "text/plain": [
       "Matrix([\n",
       "[1, 0, 0, 0,    0,   1,   -1,   1],\n",
       "[0, 1, 0, 0,    1,  -1,    2,  -1],\n",
       "[0, 0, 1, 0, -1/2, 1/2, -1/2, 1/2],\n",
       "[0, 0, 0, 1,    0,   0, -1/3, 1/3]])"
      ]
     },
     "metadata": {},
     "output_type": "display_data"
    }
   ],
   "source": [
    "matinp = input('mat: ')\n",
    "del_r, del_c = ['  ', ' ']\n",
    "\n",
    "try:\n",
    "    mat = Matrix(np.vstack(list(map(lambda row: list(map(int, row.split(del_c))), matinp.split(del_r)))).T)\n",
    "    print('MAT')\n",
    "    display(mat)\n",
    "    print('REF')\n",
    "    display(mat.echelon_form())\n",
    "    print('RREF')\n",
    "    display(mat.rref()[0])\n",
    "    R_E = Matrix(np.hstack((mat, np.eye(mat.shape[0], dtype=np.int32))))\n",
    "    print('[A | I]')\n",
    "    display(R_E)\n",
    "    print('[R | E]')\n",
    "    display(R_E.rref()[0])\n",
    "except:\n",
    "    pass"
   ]
  },
  {
   "cell_type": "code",
   "execution_count": 30,
   "metadata": {},
   "outputs": [
    {
     "data": {
      "text/plain": [
       "(array([2., 1., 2.]),\n",
       " array([[ 0.        , -0.81649658,  0.70710678],\n",
       "        [ 1.        ,  0.40824829,  0.        ],\n",
       "        [ 0.        ,  0.40824829, -0.70710678]]))"
      ]
     },
     "execution_count": 30,
     "metadata": {},
     "output_type": "execute_result"
    }
   ],
   "source": [
    "vals, vec = np.linalg.eig([[0, 0, -2], [1, 2, 1], [1, 0, 3]])\n",
    "\n",
    "vals, vec"
   ]
  }
 ],
 "metadata": {
  "kernelspec": {
   "display_name": "paiFall24",
   "language": "python",
   "name": "python3"
  },
  "language_info": {
   "codemirror_mode": {
    "name": "ipython",
    "version": 3
   },
   "file_extension": ".py",
   "mimetype": "text/x-python",
   "name": "python",
   "nbconvert_exporter": "python",
   "pygments_lexer": "ipython3",
   "version": "3.12.3"
  }
 },
 "nbformat": 4,
 "nbformat_minor": 2
}
