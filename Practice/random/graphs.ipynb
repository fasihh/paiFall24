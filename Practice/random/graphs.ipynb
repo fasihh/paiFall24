{
 "cells": [
  {
   "cell_type": "code",
   "execution_count": 5,
   "metadata": {},
   "outputs": [],
   "source": [
    "def reflexive(universal, relation):\n",
    "    for a in universal:\n",
    "        if not (a, a) in relation:\n",
    "            return False\n",
    "    return True\n",
    "\n",
    "def irreflexive(universal, relation):\n",
    "    for a in universal:\n",
    "        if (a, a) in relation:\n",
    "            return False\n",
    "    return True\n",
    "\n",
    "def symmetric(universal, relation):\n",
    "    for a in universal:\n",
    "        for b in universal:\n",
    "            if (a, b) in relation and (b, a) not in relation:\n",
    "                return False\n",
    "    return True\n",
    "\n",
    "def antisymmetric(universal, relation):\n",
    "    for a in universal:\n",
    "        for b in universal:\n",
    "            if (a, b) in relation and (b, a) in relation and a != b:\n",
    "                return False\n",
    "    return True\n",
    "\n",
    "def transitive(universal, relation):\n",
    "    for a in universal:\n",
    "        for b in universal:\n",
    "            for c in universal:\n",
    "                if ((a, b) in relation and (b, c) in relation) and not (a, c) in relation:\n",
    "                    return False\n",
    "    return True"
   ]
  },
  {
   "cell_type": "code",
   "execution_count": 6,
   "metadata": {},
   "outputs": [],
   "source": [
    "def gcd(a, b):\n",
    "    if not b:\n",
    "        return a\n",
    "    return gcd(b, a % b)\n",
    "\n",
    "def lcm(a, b):\n",
    "    if a == b == 0:\n",
    "        return 0\n",
    "    return abs(a*b)/gcd(a, b)"
   ]
  },
  {
   "cell_type": "code",
   "execution_count": 7,
   "metadata": {},
   "outputs": [
    {
     "name": "stdout",
     "output_type": "stream",
     "text": [
      "{'reflexive': True, 'irreflexive': False, 'symmetric': True, 'antisymmetric': True, 'transitive': True}\n",
      "partial\n",
      "equivalence\n"
     ]
    },
    {
     "data": {
      "image/png": "[encoded data removed]",
      "text/plain": [
       "<Figure size 640x480 with 1 Axes>"
      ]
     },
     "metadata": {},
     "output_type": "display_data"
    }
   ],
   "source": [
    "import networkx as nx\n",
    "import matplotlib.pyplot as plt\n",
    "\n",
    "graph = nx.DiGraph()\n",
    "\n",
    "setA = [1, 2, 3, 4]\n",
    "setB = []\n",
    "universal = set(setA + setB)\n",
    "\n",
    "graph.add_nodes_from(universal)\n",
    "\n",
    "condition = \"\"\n",
    "# relation = [(a, b) for a in setA for b in setB if eval(condition, {\"a\": a, \"b\": b, \"gcd\": gcd, \"lcm\": lcm})]\n",
    "relation = [(a, b) for a in setA for b in setA if a == b]\n",
    "graph.add_edges_from(relation)\n",
    "\n",
    "properties = {\n",
    "    'reflexive': reflexive,\n",
    "    'irreflexive': irreflexive,\n",
    "    'symmetric': symmetric,\n",
    "    'antisymmetric': antisymmetric,\n",
    "    'transitive': transitive\n",
    "}\n",
    "\n",
    "relation_props = dict([(prop, properties[prop](universal, relation)) for prop in properties])\n",
    "print(relation_props)\n",
    "\n",
    "if relation_props['reflexive'] and relation_props['antisymmetric'] and relation_props['transitive']:\n",
    "    print('partial')\n",
    "if relation_props['reflexive'] and relation_props['symmetric'] and relation_props['transitive']:\n",
    "    print('equivalence')\n",
    "\n",
    "nx.draw(graph, pos=nx.spring_layout(graph, k=1, scale=1), with_labels=True, node_color='lightblue', edge_color='gray', node_size=1000, font_size=16)\n",
    "plt.title(f\"{condition}: R = {f'{{{', '.join(map(str, relation))}}}'}\")\n",
    "plt.show()"
   ]
  },
  {
   "cell_type": "code",
   "execution_count": 8,
   "metadata": {},
   "outputs": [
    {
     "data": {
      "text/plain": [
       "10"
      ]
     },
     "execution_count": 8,
     "metadata": {},
     "output_type": "execute_result"
    }
   ],
   "source": [
    "a, b, c, d = 'a', 'b', 'c', 'd'\n",
    "R = [(a, a), (a, b), (b, c), (c, b), (b, b), (c, c), (c, a)]\n",
    "S = [(a, b), (a, c), (a, d), (b, a), (b, b), (c, a), (d, a), (d, d)]\n",
    "\n",
    "def inv(R):\n",
    "    return [(b, a) for a, b in R]\n",
    "\n",
    "Rinv, Sinv = inv(R), inv(S)\n",
    "\n",
    "def compose(R, S):\n",
    "    result = []\n",
    "    for a in R:\n",
    "        for b in S:\n",
    "            if a[1] != b[0] or (a[0], b[1]) in result: continue\n",
    "            result.append((a[0], b[1]))\n",
    "    return result\n",
    "\n",
    "len(compose(Sinv, Rinv))"
   ]
  },
  {
   "cell_type": "code",
   "execution_count": 9,
   "metadata": {},
   "outputs": [
    {
     "name": "stdout",
     "output_type": "stream",
     "text": [
      "True\n"
     ]
    },
    {
     "data": {
      "text/plain": [
       "[(3, 3), (3, 5), (4, 4), (4, 6), (5, 3), (5, 5), (6, 4), (6, 6)]"
      ]
     },
     "execution_count": 9,
     "metadata": {},
     "output_type": "execute_result"
    }
   ],
   "source": [
    "A = {3, 4, 5, 6}\n",
    "R = [(a, b) for a in A for b in A if abs(a - b) % 2 == 0]\n",
    "\n",
    "print(reflexive(A, R) and symmetric(A, R) and transitive(A, R))\n",
    "R"
   ]
  },
  {
   "cell_type": "code",
   "execution_count": 10,
   "metadata": {},
   "outputs": [
    {
     "data": {
      "text/plain": [
       "[True, True, True]"
      ]
     },
     "execution_count": 10,
     "metadata": {},
     "output_type": "execute_result"
    }
   ],
   "source": [
    "N = list(range(1, 101))\n",
    "R = [(a, b) for a in N for b in N if b % a == 0]\n",
    "\n",
    "[func(N, R) for func in [reflexive, antisymmetric, transitive]]"
   ]
  },
  {
   "cell_type": "code",
   "execution_count": 11,
   "metadata": {},
   "outputs": [
    {
     "data": {
      "text/plain": [
       "[True, False, True]"
      ]
     },
     "execution_count": 11,
     "metadata": {},
     "output_type": "execute_result"
    }
   ],
   "source": [
    "A = [2, 3, 4, 5]\n",
    "R = [(5, 5), (5, 3), (2, 2), (2, 4), (3, 5), (3, 3), (4, 2), (4, 4)]\n",
    "\n",
    "[func(A, R) for func in [reflexive, antisymmetric, transitive]]"
   ]
  },
  {
   "cell_type": "code",
   "execution_count": 20,
   "metadata": {},
   "outputs": [
    {
     "name": "stdout",
     "output_type": "stream",
     "text": [
      "[1, 3, 7, 15, 31]\n",
      "['17/2 = 8.5', '14/2 = 7.0', '11/2 = 5.5', '8/2 = 4.0', '5/2 = 2.5']\n",
      "['1/-1', '1/4', '1/-9', '1/16', '1/-25']\n",
      "['7/1', '10/3', '13/5', '16/7', '19/9']\n"
     ]
    }
   ],
   "source": [
    "print([2**n - 1 for n in range(1, 6)])\n",
    "print([f'{20 - 3*n}/2 = {(20 - 3*n)/2}' for n in range(1, 6)])\n",
    "print([f'1/{(-1)**n * n**2}' for n in range(1, 6)])\n",
    "print([f'{3*n + 4}/{2*n - 1}' for n in range(1, 6)])"
   ]
  },
  {
   "cell_type": "code",
   "execution_count": 23,
   "metadata": {},
   "outputs": [
    {
     "name": "stdout",
     "output_type": "stream",
     "text": [
      "[-15, -22, -29, -36, -43, -50, -57, -64, -71, -78, -85]\n"
     ]
    }
   ],
   "source": [
    "result = []\n",
    "curr = -15\n",
    "for i in range(0, 11):\n",
    "    result.append(curr)\n",
    "    curr -= 7\n",
    "print(result)"
   ]
  },
  {
   "cell_type": "code",
   "execution_count": 1,
   "metadata": {},
   "outputs": [
    {
     "data": {
      "text/plain": [
       "[1, 3, 5, 7]"
      ]
     },
     "execution_count": 1,
     "metadata": {},
     "output_type": "execute_result"
    }
   ],
   "source": [
    "[1 + n * 2 for n in range(4)]"
   ]
  },
  {
   "cell_type": "code",
   "execution_count": 2,
   "metadata": {},
   "outputs": [
    {
     "data": {
      "text/plain": [
       "[38, 50, 62, 74]"
      ]
     },
     "execution_count": 2,
     "metadata": {},
     "output_type": "execute_result"
    }
   ],
   "source": [
    "[38 + n * 12 for n in range(4)]"
   ]
  },
  {
   "cell_type": "code",
   "execution_count": 5,
   "metadata": {},
   "outputs": [
    {
     "data": {
      "text/plain": [
       "76"
      ]
     },
     "execution_count": 5,
     "metadata": {},
     "output_type": "execute_result"
    }
   ],
   "source": [
    "len([i for i in range(256, 785) if i % 7 == 0])"
   ]
  },
  {
   "cell_type": "code",
   "execution_count": 7,
   "metadata": {},
   "outputs": [
    {
     "data": {
      "text/plain": [
       "[-3, -2, 1, 3, 2, -1]"
      ]
     },
     "execution_count": 7,
     "metadata": {},
     "output_type": "execute_result"
    }
   ],
   "source": [
    "def rec(n):\n",
    "    if n == 0:\n",
    "        return 2\n",
    "    if n == 1:\n",
    "        return -1\n",
    "    return rec(n-1) - rec(n-2)\n",
    "\n",
    "[rec(i) for i in range(2, 2+6)]"
   ]
  },
  {
   "cell_type": "code",
   "execution_count": 8,
   "metadata": {},
   "outputs": [
    {
     "data": {
      "text/plain": [
       "[3, 27, 2187, 14348907, 617673396283947, 1144561273430837494885949696427]"
      ]
     },
     "execution_count": 8,
     "metadata": {},
     "output_type": "execute_result"
    }
   ],
   "source": [
    "def rec(n):\n",
    "    if n == 0:\n",
    "        return 1\n",
    "    return 3 * rec(n-1)**2\n",
    "\n",
    "[rec(i) for i in range(1, 7)]"
   ]
  },
  {
   "cell_type": "code",
   "execution_count": 9,
   "metadata": {},
   "outputs": [
    {
     "data": {
      "text/plain": [
       "[1, 3, 13, 74, 613, 9767]"
      ]
     },
     "execution_count": 9,
     "metadata": {},
     "output_type": "execute_result"
    }
   ],
   "source": [
    "def rec(n):\n",
    "    if n == 0:\n",
    "        return -1\n",
    "    if n == 1:\n",
    "        return 0\n",
    "    return n*rec(n-1) + rec(n-2)**2\n",
    "\n",
    "[rec(i) for i in range(2, 2 + 6)]"
   ]
  },
  {
   "cell_type": "code",
   "execution_count": 10,
   "metadata": {},
   "outputs": [
    {
     "data": {
      "text/plain": [
       "[2, 0, 8, 0]"
      ]
     },
     "execution_count": 10,
     "metadata": {},
     "output_type": "execute_result"
    }
   ],
   "source": [
    "[2**n + (-2)**n for n in range(4)]"
   ]
  },
  {
   "cell_type": "code",
   "execution_count": 2,
   "metadata": {},
   "outputs": [],
   "source": [
    "from collections import defaultdict\n",
    "\n",
    "a, b, c, d, e, f, g, h, i = 'a', 'b', 'c', 'd', 'e', 'f', 'g', 'h', 'i'\n",
    "\n",
    "def get_adj(edges):\n",
    "    adj = defaultdict(list)\n",
    "    for u, v in edges:\n",
    "        if v == None:\n",
    "            adj[u] = []\n",
    "            continue\n",
    "        if v in adj[u]: continue\n",
    "        adj[u].append(v)\n",
    "    return adj\n",
    "\n",
    "def get_degrees(edges):\n",
    "    verticies = defaultdict(int)\n",
    "    for u, v in edges:\n",
    "        verticies[u] += 0 if v == None else 2 if u == v else 1\n",
    "    return verticies"
   ]
  },
  {
   "cell_type": "code",
   "execution_count": 28,
   "metadata": {},
   "outputs": [
    {
     "name": "stdout",
     "output_type": "stream",
     "text": [
      "defaultdict(<class 'list'>, {'a': ['a', 'b', 'e'], 'b': ['a', 'c', 'd', 'e'], 'c': ['c', 'b', 'd'], 'd': ['b', 'c', 'e'], 'e': ['a', 'b', 'd']})\n",
      "defaultdict(<class 'int'>, {'a': 6, 'b': 6, 'c': 6, 'd': 5, 'e': 3})\n"
     ]
    }
   ],
   "source": [
    "edges1 = [\n",
    "    (a, a), (a, b), (a, b), (a, b), (a, e),\n",
    "    (b, a), (b, a), (b, a), (b, c), (b, d), (b, e),\n",
    "    (c, c), (c, b), (c, d), (c, d), (c, d),\n",
    "    (d, b), (d, c), (d, c), (d, c), (d, e),\n",
    "    (e, a), (e, b), (e, d)\n",
    "]\n",
    "\n",
    "print(get_adj(edges1))\n",
    "print(get_degrees(edges1))"
   ]
  },
  {
   "cell_type": "code",
   "execution_count": 36,
   "metadata": {},
   "outputs": [
    {
     "data": {
      "text/plain": [
       "defaultdict(list,\n",
       "            {'a': ['c', 'e', 'i'],\n",
       "             'b': ['e', 'h'],\n",
       "             'c': ['a', 'e', 'g', 'i'],\n",
       "             'd': [],\n",
       "             'e': ['a', 'b', 'c', 'g'],\n",
       "             'f': [],\n",
       "             'g': ['c', 'e'],\n",
       "             'h': ['b', 'i'],\n",
       "             'i': ['c', 'h', 'a']})"
      ]
     },
     "execution_count": 36,
     "metadata": {},
     "output_type": "execute_result"
    }
   ],
   "source": [
    "edges2 = [\n",
    "    (a, c), (a, e), (a, i),\n",
    "    (b, e), (b, h),\n",
    "    (c, a), (c, e), (c, g), (c, i),\n",
    "    (d, None),\n",
    "    (e, a), (e, b), (e, c), (e, g), (e, g), (e, g),\n",
    "    (f, None),\n",
    "    (g, c), (g, e), (g, e), (g, e),\n",
    "    (h, b), (h, i),\n",
    "    (i, c), (i, h), (i, a)\n",
    "]\n",
    "\n",
    "get_adj(edges2)\n",
    "# get_degrees(edges2)"
   ]
  },
  {
   "cell_type": "code",
   "execution_count": 34,
   "metadata": {},
   "outputs": [
    {
     "name": "stdout",
     "output_type": "stream",
     "text": [
      "a [('b', 1)]\n"
     ]
    },
    {
     "data": {
      "text/plain": [
       "True"
      ]
     },
     "execution_count": 34,
     "metadata": {},
     "output_type": "execute_result"
    }
   ],
   "source": [
    "def detect_cycle(graph):\n",
    "    visited = set()\n",
    "\n",
    "    def dfs(vertex, parent):\n",
    "        visited.add(vertex)\n",
    "        for neighbor, edge_id in graph[vertex]:\n",
    "            if neighbor not in visited:\n",
    "                if dfs(neighbor, (vertex, edge_id)): return True\n",
    "            elif (neighbor, edge_id) != parent: return True\n",
    "        return False\n",
    "    \n",
    "    for vertex in graph:\n",
    "        if vertex not in visited and dfs(vertex, None):\n",
    "            print(vertex, graph[vertex])\n",
    "            return True\n",
    "    return False\n",
    "\n",
    "def get_adj_multi(edges):\n",
    "    adj = defaultdict(list)\n",
    "    for u, v in edges:\n",
    "        if v == None:\n",
    "            adj[u] = []\n",
    "            continue\n",
    "        if v in adj[u]: continue\n",
    "        count = 1\n",
    "        for vertex in adj[u]:\n",
    "            count += 1 if vertex[0] == u else 0\n",
    "        adj[u].append((v, count))\n",
    "    return adj\n",
    "\n",
    "def undirected(edges):\n",
    "    return edges + [(b, a) for a, b in edges]\n",
    "\n",
    "edges1 = undirected([(a, b), (b, c), (a, d)])\n",
    "edges2 = undirected([(a, d), (a, e), (d, e), (b, c)])\n",
    "edges3 = undirected([(a, b), (b, b), (b, e), (d, c), (d, c)])\n",
    "\n",
    "detect_cycle(get_adj_multi(edges3))\n",
    "\n",
    "# detect_cycle(get_adj(edges1))\n",
    "# detect_cycle(get_adj(edges2))"
   ]
  },
  {
   "cell_type": "code",
   "execution_count": 67,
   "metadata": {},
   "outputs": [
    {
     "name": "stdout",
     "output_type": "stream",
     "text": [
      "V1 ( red ): ['a', 'd', 'c']\n",
      "V2 ( blue ): ['f', 'e', 'b']\n"
     ]
    },
    {
     "data": {
      "text/plain": [
       "True"
      ]
     },
     "execution_count": 67,
     "metadata": {},
     "output_type": "execute_result"
    }
   ],
   "source": [
    "from collections import defaultdict, deque\n",
    "\n",
    "def is_bipartite(graph):\n",
    "    color_map = defaultdict(str)\n",
    "    color1, color2 = 'red', 'blue'\n",
    "\n",
    "    # for every vertex in graph\n",
    "    for start_vertex in graph:\n",
    "        # if it's not already colored\n",
    "        if start_vertex not in color_map:\n",
    "            # BFS traversal of adjacent nodes\n",
    "            queue = deque([start_vertex])\n",
    "            color_map[start_vertex] = color1\n",
    "\n",
    "            while queue:\n",
    "                vertex = queue.popleft()\n",
    "                current_color = color_map[vertex]\n",
    "                next_color = color1 if current_color == color2 else color2\n",
    "\n",
    "                for neighbor in graph[vertex]:\n",
    "                    # give adjacent next color and traverse it next\n",
    "                    if neighbor not in color_map:\n",
    "                        color_map[neighbor] = next_color\n",
    "                        queue.append(neighbor)\n",
    "                    # if adjacent node has same color, not bipartite\n",
    "                    elif color_map[neighbor] == current_color:\n",
    "                        return False\n",
    "\n",
    "    def get_color(color):\n",
    "        return [vertex for vertex in color_map if color_map[vertex] == color]\n",
    "\n",
    "    print(\"V1 (\", color1, \"):\", get_color(color1))\n",
    "    print(\"V2 (\", color2, \"):\", get_color(color2))\n",
    "    return True\n",
    "\n",
    "\n",
    "# is_bipartite(get_adj(undirected([(1, 2), (2, 3), (3, 4), (4, 5), (5, 6)])))\n",
    "# is_bipartite(get_adj(undirected([(a, b), (a, d), (a, e), (b, f), (b, c), (c, f), (c, d), (c, e)])))\n",
    "# is_bipartite(get_adj(undirected([(1, 2), (1, 6), (2, 3), (2, 4), (2, 5), (5, 6), (4, 5)])))\n",
    "# is_bipartite(get_adj(undirected([(a, b), (a, f), (b, e), (b, d), (c, f), (c, d), (e, d), (e, f)])))\n",
    "\n",
    "# is_bipartite(get_adj(undirected([(1, 2), (1, 4), (1, 5), (3, 2), (3, 4), (3, 5)])))\n",
    "is_bipartite(get_adj(undirected([(a, f), (a, e), (b, d), (b, c), (c, e), (f, d)])))\n",
    "# is_bipartite(get_adj(undirected([(1, 2), (2, 3), (3, 4), (4, 5), (5, 6), (6, 7), (7, 1)])))"
   ]
  }
 ],
 "metadata": {
  "kernelspec": {
   "display_name": "paiFall24",
   "language": "python",
   "name": "python3"
  },
  "language_info": {
   "codemirror_mode": {
    "name": "ipython",
    "version": 3
   },
   "file_extension": ".py",
   "mimetype": "text/x-python",
   "name": "python",
   "nbconvert_exporter": "python",
   "pygments_lexer": "ipython3",
   "version": "3.12.3"
  }
 },
 "nbformat": 4,
 "nbformat_minor": 2
}
