{
 "cells": [
  {
   "cell_type": "code",
   "execution_count": 27,
   "metadata": {},
   "outputs": [
    {
     "data": {
      "image/png": "[encoded data removed]",
      "text/plain": [
       "<Figure size 640x480 with 3 Axes>"
      ]
     },
     "metadata": {},
     "output_type": "display_data"
    }
   ],
   "source": [
    "import matplotlib.pyplot as plt\n",
    "\n",
    "plt.subplot(2, 2, 1)\n",
    "languages = ['python', 'c', 'c++', 'java']\n",
    "plt.bar(languages, [85, 75, 65, 80], color='r', label='male')\n",
    "plt.bar(languages, [30, 40, 50, 60], color='b', label='female')\n",
    "plt.legend()\n",
    "plt.xlabel('languages')\n",
    "plt.ylabel('forgor')\n",
    "\n",
    "plt.subplot(2, 2, 2)\n",
    "plt.scatter([1, 2, 3, 4, 5, 6, 7], [1, 2, 3, 4, 5, 6, 7], c=['r', 'r', 'g', 'b', 'r', 'r', 'b'], s=[4, 5, 6, 7, 8, 9, 10])\n",
    "\n",
    "plt.subplot(2, 2, 3)\n",
    "day = [1, 2, 3, 4, 5, 6, 7]\n",
    "month = [1, 2, 3, 4, 5, 6, 7]\n",
    "plt.plot(day, month)\n",
    "plt.fill_between(x=[2, 6], y1=[2, 6])\n",
    "\n",
    "plt.show()"
   ]
  },
  {
   "cell_type": "code",
   "execution_count": 31,
   "metadata": {},
   "outputs": [
    {
     "data": {
      "text/plain": [
       "[__main__.D, __main__.A, __main__.B, __main__.C, object]"
      ]
     },
     "execution_count": 31,
     "metadata": {},
     "output_type": "execute_result"
    }
   ],
   "source": [
    "class A:\n",
    "    pass\n",
    "class B:\n",
    "    pass\n",
    "class C:\n",
    "    pass\n",
    "\n",
    "class D(A, B, C):\n",
    "    pass\n",
    "\n",
    "D.mro()"
   ]
  },
  {
   "cell_type": "code",
   "execution_count": 33,
   "metadata": {},
   "outputs": [
    {
     "data": {
      "text/html": [
       "<div>\n",
       "<style scoped>\n",
       "    .dataframe tbody tr th:only-of-type {\n",
       "        vertical-align: middle;\n",
       "    }\n",
       "\n",
       "    .dataframe tbody tr th {\n",
       "        vertical-align: top;\n",
       "    }\n",
       "\n",
       "    .dataframe thead th {\n",
       "        text-align: right;\n",
       "    }\n",
       "</style>\n",
       "<table border=\"1\" class=\"dataframe\">\n",
       "  <thead>\n",
       "    <tr style=\"text-align: right;\">\n",
       "      <th></th>\n",
       "      <th>earth</th>\n",
       "      <th>is</th>\n",
       "      <th>orbits</th>\n",
       "      <th>star</th>\n",
       "      <th>sun</th>\n",
       "      <th>the</th>\n",
       "    </tr>\n",
       "  </thead>\n",
       "  <tbody>\n",
       "    <tr>\n",
       "      <th>0</th>\n",
       "      <td>0.576152</td>\n",
       "      <td>0.000000</td>\n",
       "      <td>0.576152</td>\n",
       "      <td>0.000000</td>\n",
       "      <td>0.409937</td>\n",
       "      <td>0.409937</td>\n",
       "    </tr>\n",
       "    <tr>\n",
       "      <th>1</th>\n",
       "      <td>0.000000</td>\n",
       "      <td>0.576152</td>\n",
       "      <td>0.000000</td>\n",
       "      <td>0.576152</td>\n",
       "      <td>0.409937</td>\n",
       "      <td>0.409937</td>\n",
       "    </tr>\n",
       "  </tbody>\n",
       "</table>\n",
       "</div>"
      ],
      "text/plain": [
       "      earth        is    orbits      star       sun       the\n",
       "0  0.576152  0.000000  0.576152  0.000000  0.409937  0.409937\n",
       "1  0.000000  0.576152  0.000000  0.576152  0.409937  0.409937"
      ]
     },
     "execution_count": 33,
     "metadata": {},
     "output_type": "execute_result"
    }
   ],
   "source": [
    "from sklearn.feature_extraction.text import TfidfVectorizer\n",
    "import pandas as pd\n",
    "\n",
    "corpus = [\n",
    "    \"Earth orbits the sun\",\n",
    "    \"The sun is a star\"\n",
    "]\n",
    "\n",
    "tfidf = TfidfVectorizer()\n",
    "arr = tfidf.fit_transform(corpus).toarray()\n",
    "\n",
    "pd.DataFrame(columns=tfidf.get_feature_names_out(), data=arr)"
   ]
  }
 ],
 "metadata": {
  "kernelspec": {
   "display_name": "paiFall24",
   "language": "python",
   "name": "python3"
  },
  "language_info": {
   "codemirror_mode": {
    "name": "ipython",
    "version": 3
   },
   "file_extension": ".py",
   "mimetype": "text/x-python",
   "name": "python",
   "nbconvert_exporter": "python",
   "pygments_lexer": "ipython3",
   "version": "3.12.3"
  }
 },
 "nbformat": 4,
 "nbformat_minor": 2
}
