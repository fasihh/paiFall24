{
 "cells": [
  {
   "cell_type": "code",
   "execution_count": 116,
   "metadata": {},
   "outputs": [],
   "source": [
    "import numpy as np\n",
    "import matplotlib.pyplot as plt"
   ]
  },
  {
   "cell_type": "code",
   "execution_count": 117,
   "metadata": {},
   "outputs": [
    {
     "data": {
      "text/plain": [
       "array([[7, 4, 8],\n",
       "       [5, 7, 3],\n",
       "       [7, 8, 5]])"
      ]
     },
     "metadata": {},
     "output_type": "display_data"
    },
    {
     "data": {
      "text/plain": [
       "(array([0, 2, 0], dtype=int64), array([1, 0, 1], dtype=int64))"
      ]
     },
     "execution_count": 117,
     "metadata": {},
     "output_type": "execute_result"
    }
   ],
   "source": [
    "np.random.seed(42)\n",
    "arr = np.random.randint(1, 10, (3, 3))\n",
    "\n",
    "display(arr)\n",
    "\n",
    "# highes and lowest value's index column wise\n",
    "arr.argmax(axis=0), arr.argmin(axis=0)"
   ]
  },
  {
   "cell_type": "code",
   "execution_count": 118,
   "metadata": {},
   "outputs": [
    {
     "data": {
      "text/plain": [
       "array([[7, 4, 8],\n",
       "       [5, 7, 3],\n",
       "       [7, 8, 5]])"
      ]
     },
     "metadata": {},
     "output_type": "display_data"
    },
    {
     "data": {
      "text/plain": [
       "array([[1, 0, 0],\n",
       "       [0, 1, 0],\n",
       "       [0, 0, 0]])"
      ]
     },
     "execution_count": 118,
     "metadata": {},
     "output_type": "execute_result"
    }
   ],
   "source": [
    "display(arr)\n",
    "\n",
    "arr[0:2, 0:2] = np.eye(2)\n",
    "arr[:3, 2] = 0\n",
    "arr[2, :3] = 0\n",
    "arr"
   ]
  },
  {
   "cell_type": "code",
   "execution_count": 119,
   "metadata": {},
   "outputs": [
    {
     "data": {
      "text/plain": [
       "1.6180339887543225"
      ]
     },
     "execution_count": 119,
     "metadata": {},
     "output_type": "execute_result"
    }
   ],
   "source": [
    "def fib(n):\n",
    "    if n <= 1:\n",
    "        return n\n",
    "    return fib(n-1) + fib(n-2)\n",
    "\n",
    "fiber = np.frompyfunc(lambda x: fib(x), 1, 1)\n",
    "arr: np.array = fiber(np.arange(1, 30))\n",
    "\n",
    "(arr[1:] / np.roll(arr, 1)[1:])[-1]"
   ]
  },
  {
   "cell_type": "code",
   "execution_count": null,
   "metadata": {},
   "outputs": [
    {
     "data": {
      "image/png": "[encoded data removed]",
      "text/plain": [
       "<Figure size 640x480 with 1 Axes>"
      ]
     },
     "metadata": {},
     "output_type": "display_data"
    },
    {
     "data": {
      "text/plain": [
       "362880"
      ]
     },
     "execution_count": 159,
     "metadata": {},
     "output_type": "execute_result"
    }
   ],
   "source": [
    "x = np.arange(-20, 20)\n",
    "\n",
    "plt.plot(x, x**2)\n",
    "plt.plot(x, x**3)\n",
    "\n",
    "plt.ylim((-300, 500))\n",
    "plt.show()"
   ]
  },
  {
   "cell_type": "code",
   "execution_count": 186,
   "metadata": {},
   "outputs": [
    {
     "data": {
      "text/plain": [
       "362880"
      ]
     },
     "metadata": {},
     "output_type": "display_data"
    },
    {
     "data": {
      "text/plain": [
       "array([[[1, 2, 3],\n",
       "        [4, 5, 6],\n",
       "        [7, 8, 9]],\n",
       "\n",
       "       [[9, 8, 7],\n",
       "        [6, 5, 4],\n",
       "        [3, 2, 1]]])"
      ]
     },
     "metadata": {},
     "output_type": "display_data"
    },
    {
     "data": {
      "text/plain": [
       "array([[10, 10, 10],\n",
       "       [10, 10, 10],\n",
       "       [10, 10, 10]])"
      ]
     },
     "metadata": {},
     "output_type": "display_data"
    }
   ],
   "source": [
    "display(np.prod(np.arange(1, 10)))\n",
    "arr = np.array([np.arange(1, 10), np.arange(9, 0, -1)]).reshape(2, 3, 3)\n",
    "display(arr)\n",
    "display(np.sum(arr, axis=0))"
   ]
  },
  {
   "cell_type": "code",
   "execution_count": null,
   "metadata": {},
   "outputs": [
    {
     "name": "stdout",
     "output_type": "stream",
     "text": [
      "Normal\n"
     ]
    },
    {
     "data": {
      "text/plain": [
       "array([[ 0.56675593, -1.86090988,  0.99694007],\n",
       "       [ 0.68683179, -2.339593  , -2.28906126],\n",
       "       [ 1.43248192,  1.21472206, -0.88086364]])"
      ]
     },
     "metadata": {},
     "output_type": "display_data"
    },
    {
     "name": "stdout",
     "output_type": "stream",
     "text": [
      "Binomial\n"
     ]
    },
    {
     "data": {
      "text/plain": [
       "array([[3, 1, 4],\n",
       "       [2, 3, 3],\n",
       "       [5, 3, 3]])"
      ]
     },
     "metadata": {},
     "output_type": "display_data"
    },
    {
     "name": "stdout",
     "output_type": "stream",
     "text": [
      "Poisson\n"
     ]
    },
    {
     "data": {
      "text/plain": [
       "array([[2, 3, 4],\n",
       "       [4, 6, 2],\n",
       "       [3, 3, 2]])"
      ]
     },
     "metadata": {},
     "output_type": "display_data"
    },
    {
     "name": "stdout",
     "output_type": "stream",
     "text": [
      "Uniform\n"
     ]
    },
    {
     "data": {
      "text/plain": [
       "array([[0.65136721, 0.77124667, 0.37443537],\n",
       "       [0.06892154, 0.07732107, 0.10424697],\n",
       "       [0.84043963, 0.9106862 , 0.12281078]])"
      ]
     },
     "metadata": {},
     "output_type": "display_data"
    },
    {
     "name": "stdout",
     "output_type": "stream",
     "text": [
      "Logistic\n"
     ]
    },
    {
     "data": {
      "text/plain": [
       "array([[-1.35051441, -2.2354261 , -1.94819148],\n",
       "       [ 4.27935116, -0.39698619, -0.58675175],\n",
       "       [-1.44615159,  1.87693993,  0.01500756]])"
      ]
     },
     "metadata": {},
     "output_type": "display_data"
    }
   ],
   "source": [
    "print('Normal')\n",
    "# loc = mean, scale = how flat\n",
    "display(np.random.normal(loc=0, scale=1, size=(3, 3)))\n",
    "print('Binomial')\n",
    "# n = number of trials, p = rate of success\n",
    "display(np.random.binomial(n=5, p=0.5, size=(3, 3)))\n",
    "print('Poisson')\n",
    "# lam = number of known occurrences\n",
    "display(np.random.poisson(lam=3, size=(3, 3)))\n",
    "print('Uniform')\n",
    "display(np.random.uniform(low=0, high=1, size=(3, 3)))\n",
    "print('Logistic')\n",
    "display(np.random.logistic(loc=1, scale=2, size=(3, 3)))"
   ]
  }
 ],
 "metadata": {
  "kernelspec": {
   "display_name": "paiFall24",
   "language": "python",
   "name": "python3"
  },
  "language_info": {
   "codemirror_mode": {
    "name": "ipython",
    "version": 3
   },
   "file_extension": ".py",
   "mimetype": "text/x-python",
   "name": "python",
   "nbconvert_exporter": "python",
   "pygments_lexer": "ipython3",
   "version": "3.12.3"
  }
 },
 "nbformat": 4,
 "nbformat_minor": 2
}
